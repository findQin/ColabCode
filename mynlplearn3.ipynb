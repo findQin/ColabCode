{
  "nbformat": 4,
  "nbformat_minor": 0,
  "metadata": {
    "colab": {
      "name": "mylearnnlp3.ipynb",
      "provenance": [],
      "collapsed_sections": [],
      "mount_file_id": "1hwnK4b495fBXbaWraTggoCWfacCnnoz9",
      "authorship_tag": "ABX9TyOUjLjCIYhOeh7lxKITIe+H",
      "include_colab_link": true
    },
    "kernelspec": {
      "name": "python3",
      "display_name": "Python 3"
    },
    "accelerator": "GPU"
  },
  "cells": [
    {
      "cell_type": "markdown",
      "metadata": {
        "id": "view-in-github",
        "colab_type": "text"
      },
      "source": [
        "<a href=\"https://colab.research.google.com/github/findQin/ColabCode/blob/master/mynlplearn3.ipynb\" target=\"_parent\"><img src=\"https://colab.research.google.com/assets/colab-badge.svg\" alt=\"Open In Colab\"/></a>"
      ]
    },
    {
      "cell_type": "code",
      "metadata": {
        "id": "Udsd3aueyB2y",
        "colab_type": "code",
        "colab": {}
      },
      "source": [
        "import tensorflow as tf"
      ],
      "execution_count": 40,
      "outputs": []
    },
    {
      "cell_type": "code",
      "metadata": {
        "id": "6ATpKenUyaQy",
        "colab_type": "code",
        "colab": {}
      },
      "source": [
        "from tensorflow import keras\n",
        "from tensorflow.keras.preprocessing.text import Tokenizer\n",
        "from tensorflow.keras.preprocessing.sequence import pad_sequences"
      ],
      "execution_count": 41,
      "outputs": []
    },
    {
      "cell_type": "code",
      "metadata": {
        "id": "t2QfBdS4zGie",
        "colab_type": "code",
        "colab": {}
      },
      "source": [
        "# 用于分词器Tokenizer，词汇表大小，词汇表保存的词的数量，基于词频\n",
        "vocab_size = 10000\n",
        "\n",
        "# 生成的词向量维度\n",
        "embedding_dim = 16\n",
        "\n",
        "# 训练数据与测试数据中句子长度的控制\n",
        "max_length = 100\n",
        "\n",
        "# 因为要控制句子长度，超过 max_length 的就要截断，这里是从后方截断\n",
        "trunc_type = 'post'\n",
        "\n",
        "# 因为要控制句子长度，不够 max_length 的就要填充，从后方填充\n",
        "padding_type = 'post'\n",
        "\n",
        "# Tokenizer 分词器拟合训练数据，保存了出现频率最高前 vocab_size 个词，\n",
        "# 在将词转换为整数编码时，对于那些未出现词汇表中的词，转换不了对应的整数编码，\n",
        "# 便用 oov_tok 来代替\n",
        "oov_tok = \"<OOV>\"\n",
        "\n",
        "# 训练集长度\n",
        "training_size = 25000\n",
        "\n",
        "# 分类类别\n",
        "num_classes=2         "
      ],
      "execution_count": 42,
      "outputs": []
    },
    {
      "cell_type": "code",
      "metadata": {
        "id": "6y938Oh24UGb",
        "colab_type": "code",
        "colab": {}
      },
      "source": [
        "import pandas as pd\n",
        "\n",
        "df = pd.read_csv('drive/My Drive/myDataSets/imdb.csv')"
      ],
      "execution_count": 43,
      "outputs": []
    },
    {
      "cell_type": "code",
      "metadata": {
        "id": "e29ycFbN4nMt",
        "colab_type": "code",
        "colab": {
          "base_uri": "https://localhost:8080/",
          "height": 202
        },
        "outputId": "2eb33dde-d93b-479b-8db5-bf23303cb1a0"
      },
      "source": [
        "df.head()"
      ],
      "execution_count": 44,
      "outputs": [
        {
          "output_type": "execute_result",
          "data": {
            "text/html": [
              "<div>\n",
              "<style scoped>\n",
              "    .dataframe tbody tr th:only-of-type {\n",
              "        vertical-align: middle;\n",
              "    }\n",
              "\n",
              "    .dataframe tbody tr th {\n",
              "        vertical-align: top;\n",
              "    }\n",
              "\n",
              "    .dataframe thead th {\n",
              "        text-align: right;\n",
              "    }\n",
              "</style>\n",
              "<table border=\"1\" class=\"dataframe\">\n",
              "  <thead>\n",
              "    <tr style=\"text-align: right;\">\n",
              "      <th></th>\n",
              "      <th>review</th>\n",
              "      <th>sentiment</th>\n",
              "    </tr>\n",
              "  </thead>\n",
              "  <tbody>\n",
              "    <tr>\n",
              "      <th>0</th>\n",
              "      <td>One of the other reviewers has mentioned that ...</td>\n",
              "      <td>positive</td>\n",
              "    </tr>\n",
              "    <tr>\n",
              "      <th>1</th>\n",
              "      <td>A wonderful little production. &lt;br /&gt;&lt;br /&gt;The...</td>\n",
              "      <td>positive</td>\n",
              "    </tr>\n",
              "    <tr>\n",
              "      <th>2</th>\n",
              "      <td>I thought this was a wonderful way to spend ti...</td>\n",
              "      <td>positive</td>\n",
              "    </tr>\n",
              "    <tr>\n",
              "      <th>3</th>\n",
              "      <td>Basically there's a family where a little boy ...</td>\n",
              "      <td>negative</td>\n",
              "    </tr>\n",
              "    <tr>\n",
              "      <th>4</th>\n",
              "      <td>Petter Mattei's \"Love in the Time of Money\" is...</td>\n",
              "      <td>positive</td>\n",
              "    </tr>\n",
              "  </tbody>\n",
              "</table>\n",
              "</div>"
            ],
            "text/plain": [
              "                                              review sentiment\n",
              "0  One of the other reviewers has mentioned that ...  positive\n",
              "1  A wonderful little production. <br /><br />The...  positive\n",
              "2  I thought this was a wonderful way to spend ti...  positive\n",
              "3  Basically there's a family where a little boy ...  negative\n",
              "4  Petter Mattei's \"Love in the Time of Money\" is...  positive"
            ]
          },
          "metadata": {
            "tags": []
          },
          "execution_count": 44
        }
      ]
    },
    {
      "cell_type": "code",
      "metadata": {
        "id": "lhhXq6YU4qM1",
        "colab_type": "code",
        "colab": {
          "base_uri": "https://localhost:8080/",
          "height": 89
        },
        "outputId": "a1729683-0be2-492d-89dd-2bd5599e1e35"
      },
      "source": [
        "df['review'][:3]"
      ],
      "execution_count": 45,
      "outputs": [
        {
          "output_type": "execute_result",
          "data": {
            "text/plain": [
              "0    One of the other reviewers has mentioned that ...\n",
              "1    A wonderful little production. <br /><br />The...\n",
              "2    I thought this was a wonderful way to spend ti...\n",
              "Name: review, dtype: object"
            ]
          },
          "metadata": {
            "tags": []
          },
          "execution_count": 45
        }
      ]
    },
    {
      "cell_type": "code",
      "metadata": {
        "id": "Hq6BXuET4u8t",
        "colab_type": "code",
        "colab": {}
      },
      "source": [
        "sentences = df['review'].values"
      ],
      "execution_count": 46,
      "outputs": []
    },
    {
      "cell_type": "code",
      "metadata": {
        "id": "kAHSbvSJ45MG",
        "colab_type": "code",
        "colab": {
          "base_uri": "https://localhost:8080/",
          "height": 35
        },
        "outputId": "e4918bab-7bba-42b7-928a-4b4cd2159cba"
      },
      "source": [
        "len(sentences)"
      ],
      "execution_count": 47,
      "outputs": [
        {
          "output_type": "execute_result",
          "data": {
            "text/plain": [
              "50000"
            ]
          },
          "metadata": {
            "tags": []
          },
          "execution_count": 47
        }
      ]
    },
    {
      "cell_type": "code",
      "metadata": {
        "id": "o7gHvgjy5PPd",
        "colab_type": "code",
        "colab": {}
      },
      "source": [
        "training_sentences = sentences[0:training_size]\n",
        "testing_sentences = sentences[training_size:]"
      ],
      "execution_count": 48,
      "outputs": []
    },
    {
      "cell_type": "code",
      "metadata": {
        "id": "TF52EiY35PR1",
        "colab_type": "code",
        "colab": {
          "base_uri": "https://localhost:8080/",
          "height": 35
        },
        "outputId": "07ae05a9-4fa4-4c6f-fe16-add5df88fbbc"
      },
      "source": [
        "len(training_sentences)"
      ],
      "execution_count": 49,
      "outputs": [
        {
          "output_type": "execute_result",
          "data": {
            "text/plain": [
              "25000"
            ]
          },
          "metadata": {
            "tags": []
          },
          "execution_count": 49
        }
      ]
    },
    {
      "cell_type": "code",
      "metadata": {
        "id": "J00jx3O746g9",
        "colab_type": "code",
        "colab": {}
      },
      "source": [
        ""
      ],
      "execution_count": 49,
      "outputs": []
    },
    {
      "cell_type": "code",
      "metadata": {
        "id": "E6uTiee25n9c",
        "colab_type": "code",
        "colab": {
          "base_uri": "https://localhost:8080/",
          "height": 35
        },
        "outputId": "c3e9fba2-f557-4e86-98db-fdf225dbe009"
      },
      "source": [
        "'positive' == df['sentiment'][0]"
      ],
      "execution_count": 50,
      "outputs": [
        {
          "output_type": "execute_result",
          "data": {
            "text/plain": [
              "True"
            ]
          },
          "metadata": {
            "tags": []
          },
          "execution_count": 50
        }
      ]
    },
    {
      "cell_type": "code",
      "metadata": {
        "id": "IpkRyuK65wSz",
        "colab_type": "code",
        "colab": {
          "base_uri": "https://localhost:8080/",
          "height": 35
        },
        "outputId": "16930d42-d78a-4ade-fd4c-bc5725151460"
      },
      "source": [
        "len(df)"
      ],
      "execution_count": 51,
      "outputs": [
        {
          "output_type": "execute_result",
          "data": {
            "text/plain": [
              "50000"
            ]
          },
          "metadata": {
            "tags": []
          },
          "execution_count": 51
        }
      ]
    },
    {
      "cell_type": "code",
      "metadata": {
        "id": "nuhMWEUr6P9l",
        "colab_type": "code",
        "colab": {}
      },
      "source": [
        "labels = []\n",
        "\n",
        "for i in range(len(df)):\n",
        "  if df['sentiment'][i] == 'positive':\n",
        "    labels.append(1)\n",
        "  else:\n",
        "    labels.append(0)"
      ],
      "execution_count": 52,
      "outputs": []
    },
    {
      "cell_type": "code",
      "metadata": {
        "id": "YT1aYDp17Z7Y",
        "colab_type": "code",
        "colab": {
          "base_uri": "https://localhost:8080/",
          "height": 35
        },
        "outputId": "ffcc9b89-cfa8-4fdc-ad44-18e7fb36f189"
      },
      "source": [
        "labels[:10]"
      ],
      "execution_count": 53,
      "outputs": [
        {
          "output_type": "execute_result",
          "data": {
            "text/plain": [
              "[1, 1, 1, 0, 1, 1, 1, 0, 0, 1]"
            ]
          },
          "metadata": {
            "tags": []
          },
          "execution_count": 53
        }
      ]
    },
    {
      "cell_type": "code",
      "metadata": {
        "id": "5KV5mmPZ7cEl",
        "colab_type": "code",
        "colab": {}
      },
      "source": [
        "training_labels = labels[0:training_size]\n",
        "testing_labels = labels[training_size:]"
      ],
      "execution_count": 54,
      "outputs": []
    },
    {
      "cell_type": "markdown",
      "metadata": {
        "id": "yRqrUhnD8ZHN",
        "colab_type": "text"
      },
      "source": [
        "分词器拟合训练集中的评论"
      ]
    },
    {
      "cell_type": "code",
      "metadata": {
        "id": "qgUOW_7U7oHt",
        "colab_type": "code",
        "colab": {}
      },
      "source": [
        "tokenizer = Tokenizer(num_words=vocab_size, oov_token=oov_tok)\n",
        "tokenizer.fit_on_texts(training_sentences)"
      ],
      "execution_count": 55,
      "outputs": []
    },
    {
      "cell_type": "markdown",
      "metadata": {
        "id": "X0hUGupK8ucg",
        "colab_type": "text"
      },
      "source": [
        "得到词汇表  {' OOV ' : 1,  '  to ' : 2, ...}"
      ]
    },
    {
      "cell_type": "code",
      "metadata": {
        "id": "gdbqXCOx8Je9",
        "colab_type": "code",
        "colab": {}
      },
      "source": [
        "word_index = tokenizer.word_index"
      ],
      "execution_count": 56,
      "outputs": []
    },
    {
      "cell_type": "markdown",
      "metadata": {
        "id": "qW8fS2HP9TWA",
        "colab_type": "text"
      },
      "source": [
        "将训练集中的评论文本转为整数编码，然后将这些句子的整数编码通过填充、截断使其长度一致为 max_length"
      ]
    },
    {
      "cell_type": "code",
      "metadata": {
        "id": "Hp1oA9Sh8MEV",
        "colab_type": "code",
        "colab": {}
      },
      "source": [
        "training_sequences = tokenizer.texts_to_sequences(training_sentences)\n",
        "\n",
        "training_padded = pad_sequences(training_sequences, maxlen=max_length, padding=padding_type, truncating=trunc_type)"
      ],
      "execution_count": 57,
      "outputs": []
    },
    {
      "cell_type": "markdown",
      "metadata": {
        "id": "Sa3v3OUm9xQj",
        "colab_type": "text"
      },
      "source": [
        "测试集评论文本也是同样操作"
      ]
    },
    {
      "cell_type": "code",
      "metadata": {
        "id": "gmfOzCh-9sdB",
        "colab_type": "code",
        "colab": {}
      },
      "source": [
        "testing_sequences = tokenizer.texts_to_sequences(testing_sentences)\n",
        "\n",
        "testing_padded = pad_sequences(testing_sequences, maxlen=max_length, padding=padding_type, truncating=trunc_type)"
      ],
      "execution_count": 58,
      "outputs": []
    },
    {
      "cell_type": "markdown",
      "metadata": {
        "id": "aZbLFmL-AR33",
        "colab_type": "text"
      },
      "source": [
        "数据转换成 tensorflow 支持的格式"
      ]
    },
    {
      "cell_type": "code",
      "metadata": {
        "id": "QEkLIjsj99Hf",
        "colab_type": "code",
        "colab": {}
      },
      "source": [
        "# Need this block to get it to work with TensorFlow 2.x\n",
        "import numpy as np\n",
        "\n",
        "training_padded = np.array(training_padded)\n",
        "training_labels = np.array(training_labels)\n",
        "\n",
        "testing_padded = np.array(testing_padded)\n",
        "testing_labels = np.array(testing_labels)"
      ],
      "execution_count": 59,
      "outputs": []
    },
    {
      "cell_type": "markdown",
      "metadata": {
        "id": "noAsnHECAup2",
        "colab_type": "text"
      },
      "source": [
        "Conv1D 中 padding='VALID'\n",
        "[参考这篇博客](https://blog.csdn.net/wuzqChom/article/details/74785643)"
      ]
    },
    {
      "cell_type": "code",
      "metadata": {
        "id": "y2-hy6NWAOgA",
        "colab_type": "code",
        "colab": {}
      },
      "source": [
        "model = tf.keras.Sequential([\n",
        "    tf.keras.layers.Embedding(vocab_size, embedding_dim, input_length=max_length),\n",
        "    tf.keras.layers.Conv1D(filters=256, kernel_size=2, kernel_initializer='he_normal', strides=1, padding='VALID', activation='relu', name='conv'),\n",
        "    tf.keras.layers.GlobalAveragePooling1D(),\n",
        "    tf.keras.layers.Dropout(rate=0.5, name='dropout'),\n",
        "    tf.keras.layers.Dense(num_classes, activation='softmax')\n",
        "])"
      ],
      "execution_count": 60,
      "outputs": []
    },
    {
      "cell_type": "code",
      "metadata": {
        "id": "1ymE9uUSCUpX",
        "colab_type": "code",
        "colab": {}
      },
      "source": [
        "model.compile(loss='sparse_categorical_crossentropy', optimizer='adam', metrics=['accuracy'])\n"
      ],
      "execution_count": 61,
      "outputs": []
    },
    {
      "cell_type": "code",
      "metadata": {
        "id": "nOnNizyJCsFC",
        "colab_type": "code",
        "colab": {
          "base_uri": "https://localhost:8080/",
          "height": 341
        },
        "outputId": "8c1afe11-bef6-4630-cf95-ec54a2fe645b"
      },
      "source": [
        "model.summary()"
      ],
      "execution_count": 62,
      "outputs": [
        {
          "output_type": "stream",
          "text": [
            "Model: \"sequential_1\"\n",
            "_________________________________________________________________\n",
            "Layer (type)                 Output Shape              Param #   \n",
            "=================================================================\n",
            "embedding_1 (Embedding)      (None, 100, 16)           160000    \n",
            "_________________________________________________________________\n",
            "conv (Conv1D)                (None, 99, 256)           8448      \n",
            "_________________________________________________________________\n",
            "global_average_pooling1d_1 ( (None, 256)               0         \n",
            "_________________________________________________________________\n",
            "dropout (Dropout)            (None, 256)               0         \n",
            "_________________________________________________________________\n",
            "dense_1 (Dense)              (None, 2)                 514       \n",
            "=================================================================\n",
            "Total params: 168,962\n",
            "Trainable params: 168,962\n",
            "Non-trainable params: 0\n",
            "_________________________________________________________________\n"
          ],
          "name": "stdout"
        }
      ]
    },
    {
      "cell_type": "code",
      "metadata": {
        "id": "upJY1ghWCsn9",
        "colab_type": "code",
        "colab": {
          "base_uri": "https://localhost:8080/",
          "height": 1000
        },
        "outputId": "0d934cfe-f90f-4d50-ed92-f673a474eb90"
      },
      "source": [
        "num_epochs = 30\n",
        "\n",
        "history = model.fit(training_padded, training_labels, epochs=num_epochs, validation_split=0.1, verbose=2)"
      ],
      "execution_count": 63,
      "outputs": [
        {
          "output_type": "stream",
          "text": [
            "Epoch 1/30\n",
            "704/704 - 4s - loss: 0.4999 - accuracy: 0.7511 - val_loss: 0.3928 - val_accuracy: 0.8268\n",
            "Epoch 2/30\n",
            "704/704 - 4s - loss: 0.3215 - accuracy: 0.8648 - val_loss: 0.3921 - val_accuracy: 0.8304\n",
            "Epoch 3/30\n",
            "704/704 - 3s - loss: 0.2689 - accuracy: 0.8901 - val_loss: 0.4138 - val_accuracy: 0.8164\n",
            "Epoch 4/30\n",
            "704/704 - 3s - loss: 0.2352 - accuracy: 0.9058 - val_loss: 0.4348 - val_accuracy: 0.8168\n",
            "Epoch 5/30\n",
            "704/704 - 3s - loss: 0.2069 - accuracy: 0.9184 - val_loss: 0.4840 - val_accuracy: 0.8088\n",
            "Epoch 6/30\n",
            "704/704 - 3s - loss: 0.1857 - accuracy: 0.9281 - val_loss: 0.5328 - val_accuracy: 0.8048\n",
            "Epoch 7/30\n",
            "704/704 - 3s - loss: 0.1668 - accuracy: 0.9362 - val_loss: 0.5741 - val_accuracy: 0.8036\n",
            "Epoch 8/30\n",
            "704/704 - 3s - loss: 0.1513 - accuracy: 0.9414 - val_loss: 0.6372 - val_accuracy: 0.7992\n",
            "Epoch 9/30\n",
            "704/704 - 3s - loss: 0.1375 - accuracy: 0.9478 - val_loss: 0.6894 - val_accuracy: 0.7984\n",
            "Epoch 10/30\n",
            "704/704 - 3s - loss: 0.1223 - accuracy: 0.9550 - val_loss: 0.7686 - val_accuracy: 0.7980\n",
            "Epoch 11/30\n",
            "704/704 - 3s - loss: 0.1122 - accuracy: 0.9584 - val_loss: 0.8317 - val_accuracy: 0.7900\n",
            "Epoch 12/30\n",
            "704/704 - 3s - loss: 0.1015 - accuracy: 0.9621 - val_loss: 0.8848 - val_accuracy: 0.7936\n",
            "Epoch 13/30\n",
            "704/704 - 3s - loss: 0.0944 - accuracy: 0.9641 - val_loss: 0.9359 - val_accuracy: 0.7896\n",
            "Epoch 14/30\n",
            "704/704 - 3s - loss: 0.0872 - accuracy: 0.9675 - val_loss: 1.0109 - val_accuracy: 0.7868\n",
            "Epoch 15/30\n",
            "704/704 - 4s - loss: 0.0784 - accuracy: 0.9708 - val_loss: 1.0480 - val_accuracy: 0.7904\n",
            "Epoch 16/30\n",
            "704/704 - 3s - loss: 0.0755 - accuracy: 0.9728 - val_loss: 1.1124 - val_accuracy: 0.7852\n",
            "Epoch 17/30\n",
            "704/704 - 3s - loss: 0.0694 - accuracy: 0.9755 - val_loss: 1.1579 - val_accuracy: 0.7844\n",
            "Epoch 18/30\n",
            "704/704 - 3s - loss: 0.0606 - accuracy: 0.9786 - val_loss: 1.2302 - val_accuracy: 0.7808\n",
            "Epoch 19/30\n",
            "704/704 - 3s - loss: 0.0576 - accuracy: 0.9783 - val_loss: 1.3107 - val_accuracy: 0.7864\n",
            "Epoch 20/30\n",
            "704/704 - 3s - loss: 0.0556 - accuracy: 0.9802 - val_loss: 1.3469 - val_accuracy: 0.7816\n",
            "Epoch 21/30\n",
            "704/704 - 3s - loss: 0.0490 - accuracy: 0.9825 - val_loss: 1.4132 - val_accuracy: 0.7788\n",
            "Epoch 22/30\n",
            "704/704 - 3s - loss: 0.0477 - accuracy: 0.9822 - val_loss: 1.4489 - val_accuracy: 0.7804\n",
            "Epoch 23/30\n",
            "704/704 - 3s - loss: 0.0457 - accuracy: 0.9844 - val_loss: 1.4884 - val_accuracy: 0.7816\n",
            "Epoch 24/30\n",
            "704/704 - 3s - loss: 0.0427 - accuracy: 0.9851 - val_loss: 1.5490 - val_accuracy: 0.7808\n",
            "Epoch 25/30\n",
            "704/704 - 3s - loss: 0.0380 - accuracy: 0.9862 - val_loss: 1.5599 - val_accuracy: 0.7860\n",
            "Epoch 26/30\n",
            "704/704 - 3s - loss: 0.0366 - accuracy: 0.9869 - val_loss: 1.6261 - val_accuracy: 0.7764\n",
            "Epoch 27/30\n",
            "704/704 - 3s - loss: 0.0372 - accuracy: 0.9865 - val_loss: 1.6408 - val_accuracy: 0.7788\n",
            "Epoch 28/30\n",
            "704/704 - 3s - loss: 0.0331 - accuracy: 0.9887 - val_loss: 1.6465 - val_accuracy: 0.7804\n",
            "Epoch 29/30\n",
            "704/704 - 3s - loss: 0.0308 - accuracy: 0.9899 - val_loss: 1.7471 - val_accuracy: 0.7796\n",
            "Epoch 30/30\n",
            "704/704 - 3s - loss: 0.0305 - accuracy: 0.9888 - val_loss: 1.7786 - val_accuracy: 0.7788\n"
          ],
          "name": "stdout"
        }
      ]
    },
    {
      "cell_type": "code",
      "metadata": {
        "id": "M4FfveU6JcnQ",
        "colab_type": "code",
        "colab": {
          "base_uri": "https://localhost:8080/",
          "height": 544
        },
        "outputId": "67620fea-ec7e-4364-ec09-241d3891f405"
      },
      "source": [
        "import matplotlib.pyplot as plt\n",
        "\n",
        "def plot_graphs(history, string):\n",
        "  plt.plot(history.history[string])\n",
        "  plt.plot(history.history['val_' + string])\n",
        "  plt.xlabel(\"Epochs\")\n",
        "  plt.ylabel(string)\n",
        "  plt.legend([string, 'val_' + string])\n",
        "  plt.show()\n",
        "\n",
        "plot_graphs(history, \"accuracy\")\n",
        "plot_graphs(history, \"loss\")"
      ],
      "execution_count": 64,
      "outputs": [
        {
          "output_type": "display_data",
          "data": {
            "image/png": "[encoded data removed]",
            "text/plain": [
              "<Figure size 432x288 with 1 Axes>"
            ]
          },
          "metadata": {
            "tags": [],
            "needs_background": "light"
          }
        },
        {
          "output_type": "display_data",
          "data": {
            "image/png": "[encoded data removed]",
            "text/plain": [
              "<Figure size 432x288 with 1 Axes>"
            ]
          },
          "metadata": {
            "tags": [],
            "needs_background": "light"
          }
        }
      ]
    },
    {
      "cell_type": "code",
      "metadata": {
        "id": "eXy7Yc59LnNn",
        "colab_type": "code",
        "colab": {
          "base_uri": "https://localhost:8080/",
          "height": 35
        },
        "outputId": "2da14b77-de8c-4fe7-d988-cad70b9df792"
      },
      "source": [
        "result = model.evaluate(testing_padded, testing_labels)\n"
      ],
      "execution_count": 65,
      "outputs": [
        {
          "output_type": "stream",
          "text": [
            "782/782 [==============================] - 2s 2ms/step - loss: 1.7039 - accuracy: 0.7858\n"
          ],
          "name": "stdout"
        }
      ]
    },
    {
      "cell_type": "code",
      "metadata": {
        "id": "gYgdwaBdL9tR",
        "colab_type": "code",
        "colab": {
          "base_uri": "https://localhost:8080/",
          "height": 35
        },
        "outputId": "19b3d6f1-1e0f-4881-bf8e-b25a4e3c7733"
      },
      "source": [
        "print(\"Accuracy: {0:.2%}\".format(result[1]))\n"
      ],
      "execution_count": 66,
      "outputs": [
        {
          "output_type": "stream",
          "text": [
            "Accuracy: 78.58%\n"
          ],
          "name": "stdout"
        }
      ]
    },
    {
      "cell_type": "markdown",
      "metadata": {
        "id": "OTEr01aKMgRM",
        "colab_type": "text"
      },
      "source": [
        "反转词汇表看看 {1 : '&lt;OOV>', &nbsp;&nbsp;2 : 'to', ...}"
      ]
    },
    {
      "cell_type": "code",
      "metadata": {
        "id": "KlK3mkMuL-Jt",
        "colab_type": "code",
        "colab": {}
      },
      "source": [
        "reverse_word_index = dict([(value, key) for (key, value) in word_index.items()])"
      ],
      "execution_count": 67,
      "outputs": []
    },
    {
      "cell_type": "code",
      "metadata": {
        "id": "RFvBypNHMJc1",
        "colab_type": "code",
        "colab": {
          "base_uri": "https://localhost:8080/",
          "height": 35
        },
        "outputId": "31254b22-ac9a-4328-9ff9-ade19a7fb07f"
      },
      "source": [
        "reverse_word_index[1]"
      ],
      "execution_count": 68,
      "outputs": [
        {
          "output_type": "execute_result",
          "data": {
            "application/vnd.google.colaboratory.intrinsic": {
              "type": "string"
            },
            "text/plain": [
              "'<OOV>'"
            ]
          },
          "metadata": {
            "tags": []
          },
          "execution_count": 68
        }
      ]
    },
    {
      "cell_type": "code",
      "metadata": {
        "id": "RFOqxBcHMKkD",
        "colab_type": "code",
        "colab": {
          "base_uri": "https://localhost:8080/",
          "height": 107
        },
        "outputId": "b8b478e0-ac2e-47f7-b1ea-f98bac523740"
      },
      "source": [
        "def decode_sentence(text):\n",
        "  # get(i, '?') 指定的键值不存在时，用？代替\n",
        "  return ' '.join([reverse_word_index.get(i, '?') for i in text])\n",
        "\n",
        "decode_sentence(training_padded[0])"
      ],
      "execution_count": 69,
      "outputs": [
        {
          "output_type": "execute_result",
          "data": {
            "application/vnd.google.colaboratory.intrinsic": {
              "type": "string"
            },
            "text/plain": [
              "\"one of the other reviewers has mentioned that after watching just 1 oz episode you'll be hooked they are right as this is exactly what happened with me br br the first thing that struck me about oz was its brutality and <OOV> scenes of violence which set in right from the word go trust me this is not a show for the faint hearted or <OOV> this show pulls no punches with regards to drugs sex or violence its is hardcore in the classic use of the word br br it is called oz as that is the <OOV>\""
            ]
          },
          "metadata": {
            "tags": []
          },
          "execution_count": 69
        }
      ]
    },
    {
      "cell_type": "code",
      "metadata": {
        "id": "mWykuKzhMNaD",
        "colab_type": "code",
        "colab": {
          "base_uri": "https://localhost:8080/",
          "height": 35
        },
        "outputId": "5d54ca33-7446-4c66-b3e5-a33516d50a09"
      },
      "source": [
        "len(training_padded[0])"
      ],
      "execution_count": 70,
      "outputs": [
        {
          "output_type": "execute_result",
          "data": {
            "text/plain": [
              "100"
            ]
          },
          "metadata": {
            "tags": []
          },
          "execution_count": 70
        }
      ]
    }
  ]
}