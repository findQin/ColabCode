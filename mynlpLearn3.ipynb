{
  "nbformat": 4,
  "nbformat_minor": 0,
  "metadata": {
    "colab": {
      "name": "mylearnnlp3.ipynb",
      "provenance": [],
      "collapsed_sections": [],
      "mount_file_id": "1hwnK4b495fBXbaWraTggoCWfacCnnoz9",
      "authorship_tag": "ABX9TyOMI8Ou1zb+deEGf+7NvGDJ",
      "include_colab_link": true
    },
    "kernelspec": {
      "name": "python3",
      "display_name": "Python 3"
    },
    "accelerator": "GPU"
  },
  "cells": [
    {
      "cell_type": "markdown",
      "metadata": {
        "id": "view-in-github",
        "colab_type": "text"
      },
      "source": [
        "<a href=\"https://colab.research.google.com/github/findQin/ColabCode/blob/master/mynlpLearn3.ipynb\" target=\"_parent\"><img src=\"https://colab.research.google.com/assets/colab-badge.svg\" alt=\"Open In Colab\"/></a>"
      ]
    },
    {
      "cell_type": "code",
      "metadata": {
        "id": "Udsd3aueyB2y",
        "colab_type": "code",
        "colab": {}
      },
      "source": [
        "import tensorflow as tf"
      ],
      "execution_count": null,
      "outputs": []
    },
    {
      "cell_type": "code",
      "metadata": {
        "id": "6ATpKenUyaQy",
        "colab_type": "code",
        "colab": {}
      },
      "source": [
        "from tensorflow import keras\n",
        "from tensorflow.keras.preprocessing.text import Tokenizer\n",
        "from tensorflow.keras.preprocessing.sequence import pad_sequences"
      ],
      "execution_count": null,
      "outputs": []
    },
    {
      "cell_type": "code",
      "metadata": {
        "id": "t2QfBdS4zGie",
        "colab_type": "code",
        "colab": {}
      },
      "source": [
        "# 用于分词器Tokenizer，词汇表大小，词汇表保存的词的数量，基于词频\n",
        "vocab_size = 10000\n",
        "\n",
        "# 生成的词向量维度\n",
        "embedding_dim = 16\n",
        "\n",
        "# 训练数据与测试数据中句子长度的控制\n",
        "max_length = 100\n",
        "\n",
        "# 因为要控制句子长度，超过 max_length 的就要截断，这里是从后方截断\n",
        "trunc_type = 'post'\n",
        "\n",
        "# 因为要控制句子长度，不够 max_length 的就要填充，从后方填充\n",
        "padding_type = 'post'\n",
        "\n",
        "# Tokenizer 分词器拟合训练数据，保存了出现频率最高前 vocab_size 个词，\n",
        "# 在将词转换为整数编码时，对于那些未出现词汇表中的词，转换不了对应的整数编码，\n",
        "# 便用 oov_tok 来代替\n",
        "oov_tok = \"<OOV>\"\n",
        "\n",
        "# 训练集长度\n",
        "training_size = 25000\n",
        "\n",
        "# 分类类别\n",
        "num_classes=2         "
      ],
      "execution_count": null,
      "outputs": []
    },
    {
      "cell_type": "markdown",
      "metadata": {
        "id": "WWm_a2wJSxuM",
        "colab_type": "text"
      },
      "source": [
        "&nbsp;  "
      ]
    },
    {
      "cell_type": "code",
      "metadata": {
        "id": "6y938Oh24UGb",
        "colab_type": "code",
        "colab": {}
      },
      "source": [
        "import pandas as pd\n",
        "\n",
        "df = pd.read_csv('drive/My Drive/myDataSets/imdb.csv')"
      ],
      "execution_count": null,
      "outputs": []
    },
    {
      "cell_type": "code",
      "metadata": {
        "id": "e29ycFbN4nMt",
        "colab_type": "code",
        "colab": {
          "base_uri": "https://localhost:8080/",
          "height": 202
        },
        "outputId": "caa4d47b-81b0-4fde-8cd2-157b9042c89a"
      },
      "source": [
        "df.head()"
      ],
      "execution_count": null,
      "outputs": [
        {
          "output_type": "execute_result",
          "data": {
            "text/html": [
              "<div>\n",
              "<style scoped>\n",
              "    .dataframe tbody tr th:only-of-type {\n",
              "        vertical-align: middle;\n",
              "    }\n",
              "\n",
              "    .dataframe tbody tr th {\n",
              "        vertical-align: top;\n",
              "    }\n",
              "\n",
              "    .dataframe thead th {\n",
              "        text-align: right;\n",
              "    }\n",
              "</style>\n",
              "<table border=\"1\" class=\"dataframe\">\n",
              "  <thead>\n",
              "    <tr style=\"text-align: right;\">\n",
              "      <th></th>\n",
              "      <th>review</th>\n",
              "      <th>sentiment</th>\n",
              "    </tr>\n",
              "  </thead>\n",
              "  <tbody>\n",
              "    <tr>\n",
              "      <th>0</th>\n",
              "      <td>One of the other reviewers has mentioned that ...</td>\n",
              "      <td>positive</td>\n",
              "    </tr>\n",
              "    <tr>\n",
              "      <th>1</th>\n",
              "      <td>A wonderful little production. &lt;br /&gt;&lt;br /&gt;The...</td>\n",
              "      <td>positive</td>\n",
              "    </tr>\n",
              "    <tr>\n",
              "      <th>2</th>\n",
              "      <td>I thought this was a wonderful way to spend ti...</td>\n",
              "      <td>positive</td>\n",
              "    </tr>\n",
              "    <tr>\n",
              "      <th>3</th>\n",
              "      <td>Basically there's a family where a little boy ...</td>\n",
              "      <td>negative</td>\n",
              "    </tr>\n",
              "    <tr>\n",
              "      <th>4</th>\n",
              "      <td>Petter Mattei's \"Love in the Time of Money\" is...</td>\n",
              "      <td>positive</td>\n",
              "    </tr>\n",
              "  </tbody>\n",
              "</table>\n",
              "</div>"
            ],
            "text/plain": [
              "                                              review sentiment\n",
              "0  One of the other reviewers has mentioned that ...  positive\n",
              "1  A wonderful little production. <br /><br />The...  positive\n",
              "2  I thought this was a wonderful way to spend ti...  positive\n",
              "3  Basically there's a family where a little boy ...  negative\n",
              "4  Petter Mattei's \"Love in the Time of Money\" is...  positive"
            ]
          },
          "metadata": {
            "tags": []
          },
          "execution_count": 77
        }
      ]
    },
    {
      "cell_type": "code",
      "metadata": {
        "id": "lhhXq6YU4qM1",
        "colab_type": "code",
        "colab": {
          "base_uri": "https://localhost:8080/",
          "height": 89
        },
        "outputId": "06d4dd02-e27b-46a1-ad52-e0b92679caa6"
      },
      "source": [
        "df['review'][:3]"
      ],
      "execution_count": null,
      "outputs": [
        {
          "output_type": "execute_result",
          "data": {
            "text/plain": [
              "0    One of the other reviewers has mentioned that ...\n",
              "1    A wonderful little production. <br /><br />The...\n",
              "2    I thought this was a wonderful way to spend ti...\n",
              "Name: review, dtype: object"
            ]
          },
          "metadata": {
            "tags": []
          },
          "execution_count": 78
        }
      ]
    },
    {
      "cell_type": "markdown",
      "metadata": {
        "id": "AXBxCo01S6Gp",
        "colab_type": "text"
      },
      "source": [
        "&nbsp;  "
      ]
    },
    {
      "cell_type": "code",
      "metadata": {
        "id": "Hq6BXuET4u8t",
        "colab_type": "code",
        "colab": {}
      },
      "source": [
        "sentences = df['review'].values"
      ],
      "execution_count": null,
      "outputs": []
    },
    {
      "cell_type": "code",
      "metadata": {
        "id": "kAHSbvSJ45MG",
        "colab_type": "code",
        "colab": {
          "base_uri": "https://localhost:8080/",
          "height": 35
        },
        "outputId": "991bf6de-6c02-4641-ab2b-1e23708b48d4"
      },
      "source": [
        "len(sentences)"
      ],
      "execution_count": null,
      "outputs": [
        {
          "output_type": "execute_result",
          "data": {
            "text/plain": [
              "50000"
            ]
          },
          "metadata": {
            "tags": []
          },
          "execution_count": 80
        }
      ]
    },
    {
      "cell_type": "code",
      "metadata": {
        "id": "duayUW1QSNZ_",
        "colab_type": "code",
        "colab": {
          "base_uri": "https://localhost:8080/",
          "height": 35
        },
        "outputId": "c6363c14-2ec7-415c-e6ec-99fde1d24bcf"
      },
      "source": [
        "type(sentences)"
      ],
      "execution_count": null,
      "outputs": [
        {
          "output_type": "execute_result",
          "data": {
            "text/plain": [
              "numpy.ndarray"
            ]
          },
          "metadata": {
            "tags": []
          },
          "execution_count": 81
        }
      ]
    },
    {
      "cell_type": "code",
      "metadata": {
        "id": "nRQje1kBSSaR",
        "colab_type": "code",
        "colab": {
          "base_uri": "https://localhost:8080/",
          "height": 91
        },
        "outputId": "4676f0a0-17f2-4898-e185-141ede38b9eb"
      },
      "source": [
        "sentences[:2]"
      ],
      "execution_count": null,
      "outputs": [
        {
          "output_type": "execute_result",
          "data": {
            "text/plain": [
              "array([\"One of the other reviewers has mentioned that after watching just 1 Oz episode you'll be hooked. They are right, as this is exactly what happened with me.<br /><br />The first thing that struck me about Oz was its brutality and unflinching scenes of violence, which set in right from the word GO. Trust me, this is not a show for the faint hearted or timid. This show pulls no punches with regards to drugs, sex or violence. Its is hardcore, in the classic use of the word.<br /><br />It is called OZ as that is the nickname given to the Oswald Maximum Security State Penitentary. It focuses mainly on Emerald City, an experimental section of the prison where all the cells have glass fronts and face inwards, so privacy is not high on the agenda. Em City is home to many..Aryans, Muslims, gangstas, Latinos, Christians, Italians, Irish and more....so scuffles, death stares, dodgy dealings and shady agreements are never far away.<br /><br />I would say the main appeal of the show is due to the fact that it goes where other shows wouldn't dare. Forget pretty pictures painted for mainstream audiences, forget charm, forget romance...OZ doesn't mess around. The first episode I ever saw struck me as so nasty it was surreal, I couldn't say I was ready for it, but as I watched more, I developed a taste for Oz, and got accustomed to the high levels of graphic violence. Not just violence, but injustice (crooked guards who'll be sold out for a nickel, inmates who'll kill on order and get away with it, well mannered, middle class inmates being turned into prison bitches due to their lack of street skills or prison experience) Watching Oz, you may become comfortable with what is uncomfortable viewing....thats if you can get in touch with your darker side.\",\n",
              "       'A wonderful little production. <br /><br />The filming technique is very unassuming- very old-time-BBC fashion and gives a comforting, and sometimes discomforting, sense of realism to the entire piece. <br /><br />The actors are extremely well chosen- Michael Sheen not only \"has got all the polari\" but he has all the voices down pat too! You can truly see the seamless editing guided by the references to Williams\\' diary entries, not only is it well worth the watching but it is a terrificly written and performed piece. A masterful production about one of the great master\\'s of comedy and his life. <br /><br />The realism really comes home with the little things: the fantasy of the guard which, rather than use the traditional \\'dream\\' techniques remains solid then disappears. It plays on our knowledge and our senses, particularly with the scenes concerning Orton and Halliwell and the sets (particularly of their flat with Halliwell\\'s murals decorating every surface) are terribly well done.'],\n",
              "      dtype=object)"
            ]
          },
          "metadata": {
            "tags": []
          },
          "execution_count": 82
        }
      ]
    },
    {
      "cell_type": "markdown",
      "metadata": {
        "id": "_m1PEvvmS8Gv",
        "colab_type": "text"
      },
      "source": [
        "&nbsp;  "
      ]
    },
    {
      "cell_type": "code",
      "metadata": {
        "id": "o7gHvgjy5PPd",
        "colab_type": "code",
        "colab": {}
      },
      "source": [
        "training_sentences = sentences[0:training_size]\n",
        "testing_sentences = sentences[training_size:]"
      ],
      "execution_count": null,
      "outputs": []
    },
    {
      "cell_type": "code",
      "metadata": {
        "id": "TF52EiY35PR1",
        "colab_type": "code",
        "colab": {
          "base_uri": "https://localhost:8080/",
          "height": 35
        },
        "outputId": "ee791f89-246e-4994-dd0f-37c4db6a8314"
      },
      "source": [
        "len(training_sentences)"
      ],
      "execution_count": null,
      "outputs": [
        {
          "output_type": "execute_result",
          "data": {
            "text/plain": [
              "25000"
            ]
          },
          "metadata": {
            "tags": []
          },
          "execution_count": 84
        }
      ]
    },
    {
      "cell_type": "markdown",
      "metadata": {
        "id": "496hUmbGSdHP",
        "colab_type": "text"
      },
      "source": [
        " &nbsp;  "
      ]
    },
    {
      "cell_type": "code",
      "metadata": {
        "id": "E6uTiee25n9c",
        "colab_type": "code",
        "colab": {
          "base_uri": "https://localhost:8080/",
          "height": 35
        },
        "outputId": "c925a33c-6bae-4f6a-eb86-e62dfe05cdf5"
      },
      "source": [
        "'positive' == df['sentiment'][0]"
      ],
      "execution_count": null,
      "outputs": [
        {
          "output_type": "execute_result",
          "data": {
            "text/plain": [
              "True"
            ]
          },
          "metadata": {
            "tags": []
          },
          "execution_count": 85
        }
      ]
    },
    {
      "cell_type": "code",
      "metadata": {
        "id": "IpkRyuK65wSz",
        "colab_type": "code",
        "colab": {
          "base_uri": "https://localhost:8080/",
          "height": 35
        },
        "outputId": "ba41ec1a-7f79-4925-d8df-5150c4c47df3"
      },
      "source": [
        "len(df)"
      ],
      "execution_count": null,
      "outputs": [
        {
          "output_type": "execute_result",
          "data": {
            "text/plain": [
              "50000"
            ]
          },
          "metadata": {
            "tags": []
          },
          "execution_count": 86
        }
      ]
    },
    {
      "cell_type": "code",
      "metadata": {
        "id": "nuhMWEUr6P9l",
        "colab_type": "code",
        "colab": {}
      },
      "source": [
        "labels = []\n",
        "\n",
        "for i in range(len(df)):\n",
        "  if df['sentiment'][i] == 'positive':\n",
        "    labels.append(1)\n",
        "  else:\n",
        "    labels.append(0)"
      ],
      "execution_count": null,
      "outputs": []
    },
    {
      "cell_type": "code",
      "metadata": {
        "id": "YT1aYDp17Z7Y",
        "colab_type": "code",
        "colab": {
          "base_uri": "https://localhost:8080/",
          "height": 35
        },
        "outputId": "224353f1-ffd0-4e87-d93f-1597f3329f46"
      },
      "source": [
        "labels[:10]"
      ],
      "execution_count": null,
      "outputs": [
        {
          "output_type": "execute_result",
          "data": {
            "text/plain": [
              "[1, 1, 1, 0, 1, 1, 1, 0, 0, 1]"
            ]
          },
          "metadata": {
            "tags": []
          },
          "execution_count": 88
        }
      ]
    },
    {
      "cell_type": "code",
      "metadata": {
        "id": "5KV5mmPZ7cEl",
        "colab_type": "code",
        "colab": {}
      },
      "source": [
        "training_labels = labels[0:training_size]\n",
        "testing_labels = labels[training_size:]"
      ],
      "execution_count": null,
      "outputs": []
    },
    {
      "cell_type": "markdown",
      "metadata": {
        "id": "6e4DCxBVStt9",
        "colab_type": "text"
      },
      "source": [
        " &nbsp;  "
      ]
    },
    {
      "cell_type": "markdown",
      "metadata": {
        "id": "yRqrUhnD8ZHN",
        "colab_type": "text"
      },
      "source": [
        "分词器拟合训练集中的评论"
      ]
    },
    {
      "cell_type": "code",
      "metadata": {
        "id": "qgUOW_7U7oHt",
        "colab_type": "code",
        "colab": {}
      },
      "source": [
        "tokenizer = Tokenizer(num_words=vocab_size, oov_token=oov_tok)\n",
        "tokenizer.fit_on_texts(training_sentences)"
      ],
      "execution_count": null,
      "outputs": []
    },
    {
      "cell_type": "markdown",
      "metadata": {
        "id": "X0hUGupK8ucg",
        "colab_type": "text"
      },
      "source": [
        "得到词汇表  {' OOV ' : 1,  '  to ' : 2, ...}"
      ]
    },
    {
      "cell_type": "code",
      "metadata": {
        "id": "gdbqXCOx8Je9",
        "colab_type": "code",
        "colab": {}
      },
      "source": [
        "word_index = tokenizer.word_index"
      ],
      "execution_count": null,
      "outputs": []
    },
    {
      "cell_type": "markdown",
      "metadata": {
        "id": "qW8fS2HP9TWA",
        "colab_type": "text"
      },
      "source": [
        "将训练集中的评论文本转为整数编码，然后将这些句子的整数编码通过填充、截断使其长度一致为 max_length"
      ]
    },
    {
      "cell_type": "code",
      "metadata": {
        "id": "Hp1oA9Sh8MEV",
        "colab_type": "code",
        "colab": {}
      },
      "source": [
        "training_sequences = tokenizer.texts_to_sequences(training_sentences)\n",
        "\n",
        "training_padded = pad_sequences(training_sequences, maxlen=max_length, padding=padding_type, truncating=trunc_type)"
      ],
      "execution_count": null,
      "outputs": []
    },
    {
      "cell_type": "markdown",
      "metadata": {
        "id": "Sa3v3OUm9xQj",
        "colab_type": "text"
      },
      "source": [
        "测试集评论文本也是同样操作"
      ]
    },
    {
      "cell_type": "code",
      "metadata": {
        "id": "gmfOzCh-9sdB",
        "colab_type": "code",
        "colab": {}
      },
      "source": [
        "testing_sequences = tokenizer.texts_to_sequences(testing_sentences)\n",
        "\n",
        "testing_padded = pad_sequences(testing_sequences, maxlen=max_length, padding=padding_type, truncating=trunc_type)"
      ],
      "execution_count": null,
      "outputs": []
    },
    {
      "cell_type": "markdown",
      "metadata": {
        "id": "aZbLFmL-AR33",
        "colab_type": "text"
      },
      "source": [
        "数据转换成 tensorflow 支持的格式"
      ]
    },
    {
      "cell_type": "code",
      "metadata": {
        "id": "QEkLIjsj99Hf",
        "colab_type": "code",
        "colab": {}
      },
      "source": [
        "# Need this block to get it to work with TensorFlow 2.x\n",
        "import numpy as np\n",
        "\n",
        "training_padded = np.array(training_padded)\n",
        "training_labels = np.array(training_labels)\n",
        "\n",
        "testing_padded = np.array(testing_padded)\n",
        "testing_labels = np.array(testing_labels)"
      ],
      "execution_count": null,
      "outputs": []
    },
    {
      "cell_type": "markdown",
      "metadata": {
        "id": "noAsnHECAup2",
        "colab_type": "text"
      },
      "source": [
        "Conv1D 中 padding='VALID'\n",
        "[参考这篇博客](https://blog.csdn.net/wuzqChom/article/details/74785643)"
      ]
    },
    {
      "cell_type": "code",
      "metadata": {
        "id": "y2-hy6NWAOgA",
        "colab_type": "code",
        "colab": {}
      },
      "source": [
        "model = tf.keras.Sequential([\n",
        "    tf.keras.layers.Embedding(vocab_size, embedding_dim, input_length=max_length),\n",
        "    tf.keras.layers.Conv1D(filters=256, kernel_size=2, kernel_initializer='he_normal', strides=1, padding='VALID', activation='relu', name='conv'),\n",
        "    tf.keras.layers.GlobalAveragePooling1D(),\n",
        "    tf.keras.layers.Dropout(rate=0.5, name='dropout'),\n",
        "    tf.keras.layers.Dense(num_classes, activation='softmax')\n",
        "])"
      ],
      "execution_count": null,
      "outputs": []
    },
    {
      "cell_type": "code",
      "metadata": {
        "id": "1ymE9uUSCUpX",
        "colab_type": "code",
        "colab": {}
      },
      "source": [
        "model.compile(loss='sparse_categorical_crossentropy', optimizer='adam', metrics=['accuracy'])\n"
      ],
      "execution_count": null,
      "outputs": []
    },
    {
      "cell_type": "code",
      "metadata": {
        "id": "nOnNizyJCsFC",
        "colab_type": "code",
        "colab": {
          "base_uri": "https://localhost:8080/",
          "height": 341
        },
        "outputId": "51c1a827-676e-47cb-9955-36031825693b"
      },
      "source": [
        "model.summary()"
      ],
      "execution_count": null,
      "outputs": [
        {
          "output_type": "stream",
          "text": [
            "Model: \"sequential_2\"\n",
            "_________________________________________________________________\n",
            "Layer (type)                 Output Shape              Param #   \n",
            "=================================================================\n",
            "embedding_2 (Embedding)      (None, 100, 16)           160000    \n",
            "_________________________________________________________________\n",
            "conv (Conv1D)                (None, 99, 256)           8448      \n",
            "_________________________________________________________________\n",
            "global_average_pooling1d_2 ( (None, 256)               0         \n",
            "_________________________________________________________________\n",
            "dropout (Dropout)            (None, 256)               0         \n",
            "_________________________________________________________________\n",
            "dense_2 (Dense)              (None, 2)                 514       \n",
            "=================================================================\n",
            "Total params: 168,962\n",
            "Trainable params: 168,962\n",
            "Non-trainable params: 0\n",
            "_________________________________________________________________\n"
          ],
          "name": "stdout"
        }
      ]
    },
    {
      "cell_type": "code",
      "metadata": {
        "id": "upJY1ghWCsn9",
        "colab_type": "code",
        "colab": {
          "base_uri": "https://localhost:8080/",
          "height": 1000
        },
        "outputId": "b786b6b6-208f-41dc-83b1-d5bcd0132fc0"
      },
      "source": [
        "num_epochs = 30\n",
        "\n",
        "history = model.fit(training_padded, training_labels, epochs=num_epochs, validation_split=0.1, verbose=2)"
      ],
      "execution_count": null,
      "outputs": [
        {
          "output_type": "stream",
          "text": [
            "Epoch 1/30\n",
            "704/704 - 4s - loss: 0.4984 - accuracy: 0.7430 - val_loss: 0.3983 - val_accuracy: 0.8244\n",
            "Epoch 2/30\n",
            "704/704 - 4s - loss: 0.3237 - accuracy: 0.8635 - val_loss: 0.3863 - val_accuracy: 0.8324\n",
            "Epoch 3/30\n",
            "704/704 - 4s - loss: 0.2721 - accuracy: 0.8884 - val_loss: 0.4069 - val_accuracy: 0.8224\n",
            "Epoch 4/30\n",
            "704/704 - 3s - loss: 0.2363 - accuracy: 0.9052 - val_loss: 0.4356 - val_accuracy: 0.8168\n",
            "Epoch 5/30\n",
            "704/704 - 3s - loss: 0.2081 - accuracy: 0.9180 - val_loss: 0.4870 - val_accuracy: 0.8136\n",
            "Epoch 6/30\n",
            "704/704 - 4s - loss: 0.1888 - accuracy: 0.9252 - val_loss: 0.5258 - val_accuracy: 0.8052\n",
            "Epoch 7/30\n",
            "704/704 - 3s - loss: 0.1701 - accuracy: 0.9345 - val_loss: 0.5730 - val_accuracy: 0.8060\n",
            "Epoch 8/30\n",
            "704/704 - 3s - loss: 0.1543 - accuracy: 0.9418 - val_loss: 0.6354 - val_accuracy: 0.7976\n",
            "Epoch 9/30\n",
            "704/704 - 4s - loss: 0.1417 - accuracy: 0.9454 - val_loss: 0.6955 - val_accuracy: 0.7928\n",
            "Epoch 10/30\n",
            "704/704 - 3s - loss: 0.1296 - accuracy: 0.9507 - val_loss: 0.7530 - val_accuracy: 0.7944\n",
            "Epoch 11/30\n",
            "704/704 - 3s - loss: 0.1179 - accuracy: 0.9559 - val_loss: 0.8274 - val_accuracy: 0.7888\n",
            "Epoch 12/30\n",
            "704/704 - 4s - loss: 0.1072 - accuracy: 0.9609 - val_loss: 0.8639 - val_accuracy: 0.7928\n",
            "Epoch 13/30\n",
            "704/704 - 3s - loss: 0.0952 - accuracy: 0.9651 - val_loss: 0.9295 - val_accuracy: 0.7864\n",
            "Epoch 14/30\n",
            "704/704 - 3s - loss: 0.0879 - accuracy: 0.9680 - val_loss: 0.9999 - val_accuracy: 0.7848\n",
            "Epoch 15/30\n",
            "704/704 - 4s - loss: 0.0853 - accuracy: 0.9680 - val_loss: 1.0621 - val_accuracy: 0.7780\n",
            "Epoch 16/30\n",
            "704/704 - 4s - loss: 0.0773 - accuracy: 0.9716 - val_loss: 1.0995 - val_accuracy: 0.7848\n",
            "Epoch 17/30\n",
            "704/704 - 3s - loss: 0.0695 - accuracy: 0.9761 - val_loss: 1.1686 - val_accuracy: 0.7852\n",
            "Epoch 18/30\n",
            "704/704 - 4s - loss: 0.0684 - accuracy: 0.9744 - val_loss: 1.2079 - val_accuracy: 0.7792\n",
            "Epoch 19/30\n",
            "704/704 - 3s - loss: 0.0636 - accuracy: 0.9780 - val_loss: 1.2516 - val_accuracy: 0.7816\n",
            "Epoch 20/30\n",
            "704/704 - 3s - loss: 0.0558 - accuracy: 0.9811 - val_loss: 1.3330 - val_accuracy: 0.7824\n",
            "Epoch 21/30\n",
            "704/704 - 4s - loss: 0.0521 - accuracy: 0.9809 - val_loss: 1.3551 - val_accuracy: 0.7828\n",
            "Epoch 22/30\n",
            "704/704 - 3s - loss: 0.0482 - accuracy: 0.9826 - val_loss: 1.4453 - val_accuracy: 0.7792\n",
            "Epoch 23/30\n",
            "704/704 - 3s - loss: 0.0466 - accuracy: 0.9834 - val_loss: 1.4956 - val_accuracy: 0.7772\n",
            "Epoch 24/30\n",
            "704/704 - 3s - loss: 0.0441 - accuracy: 0.9843 - val_loss: 1.5468 - val_accuracy: 0.7832\n",
            "Epoch 25/30\n",
            "704/704 - 3s - loss: 0.0416 - accuracy: 0.9849 - val_loss: 1.5787 - val_accuracy: 0.7772\n",
            "Epoch 26/30\n",
            "704/704 - 3s - loss: 0.0362 - accuracy: 0.9876 - val_loss: 1.6330 - val_accuracy: 0.7780\n",
            "Epoch 27/30\n",
            "704/704 - 3s - loss: 0.0372 - accuracy: 0.9864 - val_loss: 1.6868 - val_accuracy: 0.7772\n",
            "Epoch 28/30\n",
            "704/704 - 4s - loss: 0.0364 - accuracy: 0.9863 - val_loss: 1.7087 - val_accuracy: 0.7720\n",
            "Epoch 29/30\n",
            "704/704 - 4s - loss: 0.0323 - accuracy: 0.9886 - val_loss: 1.7538 - val_accuracy: 0.7732\n",
            "Epoch 30/30\n",
            "704/704 - 4s - loss: 0.0307 - accuracy: 0.9898 - val_loss: 1.7922 - val_accuracy: 0.7772\n"
          ],
          "name": "stdout"
        }
      ]
    },
    {
      "cell_type": "code",
      "metadata": {
        "id": "M4FfveU6JcnQ",
        "colab_type": "code",
        "colab": {
          "base_uri": "https://localhost:8080/",
          "height": 544
        },
        "outputId": "856b96e2-88ba-498b-e23a-0e4b781b9f68"
      },
      "source": [
        "import matplotlib.pyplot as plt\n",
        "\n",
        "def plot_graphs(history, string):\n",
        "  plt.plot(history.history[string])\n",
        "  plt.plot(history.history['val_' + string])\n",
        "  plt.xlabel(\"Epochs\")\n",
        "  plt.ylabel(string)\n",
        "  plt.legend([string, 'val_' + string])\n",
        "  plt.show()\n",
        "\n",
        "plot_graphs(history, \"accuracy\")\n",
        "plot_graphs(history, \"loss\")"
      ],
      "execution_count": null,
      "outputs": [
        {
          "output_type": "display_data",
          "data": {
            "image/png": "[encoded data removed]",
            "text/plain": [
              "<Figure size 432x288 with 1 Axes>"
            ]
          },
          "metadata": {
            "tags": [],
            "needs_background": "light"
          }
        },
        {
          "output_type": "display_data",
          "data": {
            "image/png": "[encoded data removed]",
            "text/plain": [
              "<Figure size 432x288 with 1 Axes>"
            ]
          },
          "metadata": {
            "tags": [],
            "needs_background": "light"
          }
        }
      ]
    },
    {
      "cell_type": "code",
      "metadata": {
        "id": "eXy7Yc59LnNn",
        "colab_type": "code",
        "colab": {
          "base_uri": "https://localhost:8080/",
          "height": 35
        },
        "outputId": "40c68d4d-f291-453b-b6a0-7c6721869aaf"
      },
      "source": [
        "result = model.evaluate(testing_padded, testing_labels)\n"
      ],
      "execution_count": null,
      "outputs": [
        {
          "output_type": "stream",
          "text": [
            "782/782 [==============================] - 2s 2ms/step - loss: 1.6995 - accuracy: 0.7843\n"
          ],
          "name": "stdout"
        }
      ]
    },
    {
      "cell_type": "code",
      "metadata": {
        "id": "gYgdwaBdL9tR",
        "colab_type": "code",
        "colab": {
          "base_uri": "https://localhost:8080/",
          "height": 35
        },
        "outputId": "f945af21-a09d-4378-bff5-942c418394b4"
      },
      "source": [
        "print(\"Accuracy: {0:.2%}\".format(result[1]))\n"
      ],
      "execution_count": null,
      "outputs": [
        {
          "output_type": "stream",
          "text": [
            "Accuracy: 78.43%\n"
          ],
          "name": "stdout"
        }
      ]
    },
    {
      "cell_type": "markdown",
      "metadata": {
        "id": "Z9299darTYob",
        "colab_type": "text"
      },
      "source": [
        "&nbsp;  "
      ]
    },
    {
      "cell_type": "markdown",
      "metadata": {
        "id": "OTEr01aKMgRM",
        "colab_type": "text"
      },
      "source": [
        "反转词汇表看看 {1 : '&lt;OOV>', &nbsp;&nbsp;2 : 'to', ...}"
      ]
    },
    {
      "cell_type": "code",
      "metadata": {
        "id": "KlK3mkMuL-Jt",
        "colab_type": "code",
        "colab": {}
      },
      "source": [
        "reverse_word_index = dict([(value, key) for (key, value) in word_index.items()])"
      ],
      "execution_count": null,
      "outputs": []
    },
    {
      "cell_type": "code",
      "metadata": {
        "id": "RFvBypNHMJc1",
        "colab_type": "code",
        "colab": {
          "base_uri": "https://localhost:8080/",
          "height": 35
        },
        "outputId": "90945c9d-5b63-4de4-adba-4e2c88950b24"
      },
      "source": [
        "reverse_word_index[1]"
      ],
      "execution_count": null,
      "outputs": [
        {
          "output_type": "execute_result",
          "data": {
            "application/vnd.google.colaboratory.intrinsic": {
              "type": "string"
            },
            "text/plain": [
              "'<OOV>'"
            ]
          },
          "metadata": {
            "tags": []
          },
          "execution_count": 103
        }
      ]
    },
    {
      "cell_type": "code",
      "metadata": {
        "id": "RFOqxBcHMKkD",
        "colab_type": "code",
        "colab": {
          "base_uri": "https://localhost:8080/",
          "height": 107
        },
        "outputId": "e05ac061-af6f-439a-fd6b-9f2f5ac68719"
      },
      "source": [
        "def decode_sentence(text):\n",
        "  # get(i, '?') 指定的键值不存在时，用？代替\n",
        "  return ' '.join([reverse_word_index.get(i, '?') for i in text])\n",
        "\n",
        "decode_sentence(training_padded[0])"
      ],
      "execution_count": null,
      "outputs": [
        {
          "output_type": "execute_result",
          "data": {
            "application/vnd.google.colaboratory.intrinsic": {
              "type": "string"
            },
            "text/plain": [
              "\"one of the other reviewers has mentioned that after watching just 1 oz episode you'll be hooked they are right as this is exactly what happened with me br br the first thing that struck me about oz was its brutality and <OOV> scenes of violence which set in right from the word go trust me this is not a show for the faint hearted or <OOV> this show pulls no punches with regards to drugs sex or violence its is hardcore in the classic use of the word br br it is called oz as that is the <OOV>\""
            ]
          },
          "metadata": {
            "tags": []
          },
          "execution_count": 104
        }
      ]
    },
    {
      "cell_type": "code",
      "metadata": {
        "id": "mWykuKzhMNaD",
        "colab_type": "code",
        "colab": {
          "base_uri": "https://localhost:8080/",
          "height": 35
        },
        "outputId": "4e664f1e-ce89-483d-a22c-c703c85238df"
      },
      "source": [
        "len(training_padded[0])"
      ],
      "execution_count": null,
      "outputs": [
        {
          "output_type": "execute_result",
          "data": {
            "text/plain": [
              "100"
            ]
          },
          "metadata": {
            "tags": []
          },
          "execution_count": 105
        }
      ]
    }
  ]
}