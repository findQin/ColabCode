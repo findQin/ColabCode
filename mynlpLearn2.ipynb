{
  "nbformat": 4,
  "nbformat_minor": 0,
  "metadata": {
    "colab": {
      "name": "mynlpLearn.ipynb",
      "provenance": [],
      "collapsed_sections": [],
      "authorship_tag": "ABX9TyOSeFIvcF6Qf90Uc0Uye+cK",
      "include_colab_link": true
    },
    "kernelspec": {
      "name": "python3",
      "display_name": "Python 3"
    }
  },
  "cells": [
    {
      "cell_type": "markdown",
      "metadata": {
        "id": "view-in-github",
        "colab_type": "text"
      },
      "source": [
        "<a href=\"https://colab.research.google.com/github/findQin/ColabCode/blob/master/mynlpLearn2.ipynb\" target=\"_parent\"><img src=\"https://colab.research.google.com/assets/colab-badge.svg\" alt=\"Open In Colab\"/></a>"
      ]
    },
    {
      "cell_type": "code",
      "metadata": {
        "id": "7dRTkDQPiRa1",
        "colab_type": "code",
        "colab": {}
      },
      "source": [
        "import json\n",
        "import tensorflow as tf"
      ],
      "execution_count": 1,
      "outputs": []
    },
    {
      "cell_type": "code",
      "metadata": {
        "id": "z7h9b6Zfi9GE",
        "colab_type": "code",
        "colab": {}
      },
      "source": [
        "from tensorflow import keras\n",
        "from tensorflow.keras.preprocessing.text import Tokenizer\n",
        "from tensorflow.keras.preprocessing.sequence import pad_sequences"
      ],
      "execution_count": 2,
      "outputs": []
    },
    {
      "cell_type": "code",
      "metadata": {
        "id": "Uuu06nczScqj",
        "colab_type": "code",
        "colab": {}
      },
      "source": [
        "# vocab_size: 词汇表大小，要保存的词的数量，基于词频\n",
        "vocab_size = 10000\n",
        "embedding_dim = 16\n",
        "max_length = 100\n",
        "trunc_type = 'post'\n",
        "padding_type = 'post'\n",
        "oov_tok = \"<OOV>\"\n",
        "training_size = 20000 "
      ],
      "execution_count": 3,
      "outputs": []
    },
    {
      "cell_type": "code",
      "metadata": {
        "id": "QOE8UcB-Wz-M",
        "colab_type": "code",
        "colab": {
          "base_uri": "https://localhost:8080/",
          "height": 215
        },
        "outputId": "2d40e862-8dd3-41b3-b15f-2eccbe9be240"
      },
      "source": [
        "!wget --no-check-certificate \\\n",
        "  https://storage.googleapis.com/laurencemoroney-blog.appspot.com/sarcasm.json \\\n",
        "  -O /tmp/sarcasm.json"
      ],
      "execution_count": 4,
      "outputs": [
        {
          "output_type": "stream",
          "text": [
            "--2020-06-22 00:41:24--  https://storage.googleapis.com/laurencemoroney-blog.appspot.com/sarcasm.json\n",
            "Resolving storage.googleapis.com (storage.googleapis.com)... 64.233.189.128, 2404:6800:4008:c03::80\n",
            "Connecting to storage.googleapis.com (storage.googleapis.com)|64.233.189.128|:443... connected.\n",
            "HTTP request sent, awaiting response... 200 OK\n",
            "Length: 5643545 (5.4M) [application/json]\n",
            "Saving to: ‘/tmp/sarcasm.json’\n",
            "\n",
            "\r/tmp/sarcasm.json     0%[                    ]       0  --.-KB/s               \r/tmp/sarcasm.json   100%[===================>]   5.38M  --.-KB/s    in 0.05s   \n",
            "\n",
            "2020-06-22 00:41:25 (102 MB/s) - ‘/tmp/sarcasm.json’ saved [5643545/5643545]\n",
            "\n"
          ],
          "name": "stdout"
        }
      ]
    },
    {
      "cell_type": "code",
      "metadata": {
        "id": "IMeyamdDXLWi",
        "colab_type": "code",
        "colab": {}
      },
      "source": [
        "with open(\"/tmp/sarcasm.json\", 'r') as f:\n",
        "  datastore = json.load(f)\n",
        "\n",
        "sentences = []\n",
        "labels = []\n",
        "\n",
        "for item in datastore:\n",
        "  sentences.append(item['headline'])\n",
        "  labels.append(item['is_sarcastic'])"
      ],
      "execution_count": 8,
      "outputs": []
    },
    {
      "cell_type": "code",
      "metadata": {
        "id": "pbIjP2sFjCED",
        "colab_type": "code",
        "colab": {
          "base_uri": "https://localhost:8080/",
          "height": 71
        },
        "outputId": "afec061c-3c63-410f-9c5d-3bbf18ba1410"
      },
      "source": [
        "sentences[:3]"
      ],
      "execution_count": 43,
      "outputs": [
        {
          "output_type": "execute_result",
          "data": {
            "text/plain": [
              "[\"former versace store clerk sues over secret 'black code' for minority shoppers\",\n",
              " \"the 'roseanne' revival catches up to our thorny political mood, for better and worse\",\n",
              " \"mom starting to fear son's web series closest thing she will have to grandchild\"]"
            ]
          },
          "metadata": {
            "tags": []
          },
          "execution_count": 43
        }
      ]
    },
    {
      "cell_type": "code",
      "metadata": {
        "id": "LqtpLLiZjGyK",
        "colab_type": "code",
        "colab": {
          "base_uri": "https://localhost:8080/",
          "height": 35
        },
        "outputId": "23bd4ac8-d5b5-463c-fc59-40149478a88f"
      },
      "source": [
        "labels[:3]"
      ],
      "execution_count": 44,
      "outputs": [
        {
          "output_type": "execute_result",
          "data": {
            "text/plain": [
              "[0, 0, 1]"
            ]
          },
          "metadata": {
            "tags": []
          },
          "execution_count": 44
        }
      ]
    },
    {
      "cell_type": "code",
      "metadata": {
        "id": "kJAsSefiXvKo",
        "colab_type": "code",
        "colab": {}
      },
      "source": [
        "training_sentences = sentences[0:training_size]\n",
        "testing_sentences = sentences[training_size:]\n",
        "training_labels = labels[0:training_size]\n",
        "testing_labels = labels[training_size:]"
      ],
      "execution_count": 9,
      "outputs": []
    },
    {
      "cell_type": "code",
      "metadata": {
        "id": "pICS74-ZYSUG",
        "colab_type": "code",
        "colab": {}
      },
      "source": [
        "tokenizer = Tokenizer(num_words=vocab_size, oov_token=oov_tok)\n",
        "tokenizer.fit_on_texts(training_sentences)\n",
        "\n",
        "word_index = tokenizer.word_index\n",
        "\n",
        "training_sequences = tokenizer.texts_to_sequences(training_sentences)\n",
        "training_padded = pad_sequences(training_sequences, maxlen=max_length, padding=padding_type, truncating=trunc_type)\n",
        "\n",
        "testing_sequences = tokenizer.texts_to_sequences(testing_sentences)\n",
        "testing_padded = pad_sequences(test_sequences, maxlen=max_length, padding=padding_type, truncating=trunc_type)"
      ],
      "execution_count": 14,
      "outputs": []
    },
    {
      "cell_type": "code",
      "metadata": {
        "id": "wLHTfqfCjswZ",
        "colab_type": "code",
        "colab": {
          "base_uri": "https://localhost:8080/",
          "height": 161
        },
        "outputId": "4a6d064d-9770-40ce-9763-0672d14662a7"
      },
      "source": [
        "print(training_padded[:1])"
      ],
      "execution_count": 45,
      "outputs": [
        {
          "output_type": "stream",
          "text": [
            "[[ 328    1  799 3405 2404   47  389 2214    1    6 2614 8863    0    0\n",
            "     0    0    0    0    0    0    0    0    0    0    0    0    0    0\n",
            "     0    0    0    0    0    0    0    0    0    0    0    0    0    0\n",
            "     0    0    0    0    0    0    0    0    0    0    0    0    0    0\n",
            "     0    0    0    0    0    0    0    0    0    0    0    0    0    0\n",
            "     0    0    0    0    0    0    0    0    0    0    0    0    0    0\n",
            "     0    0    0    0    0    0    0    0    0    0    0    0    0    0\n",
            "     0    0]]\n"
          ],
          "name": "stdout"
        }
      ]
    },
    {
      "cell_type": "code",
      "metadata": {
        "id": "9vUrJT8uax7k",
        "colab_type": "code",
        "colab": {}
      },
      "source": [
        "# Need this block to get it to work with TensorFlow 2.x\n",
        "import numpy as np\n",
        "training_padded = np.array(training_padded)\n",
        "training_labels = np.array(training_labels)\n",
        "testing_padded = np.array(testing_padded)\n",
        "testing_labels = np.array(testing_labels)"
      ],
      "execution_count": 15,
      "outputs": []
    },
    {
      "cell_type": "code",
      "metadata": {
        "id": "fqDTDGbye5EX",
        "colab_type": "code",
        "colab": {}
      },
      "source": [
        "model = tf.keras.Sequential([\n",
        "    tf.keras.layers.Embedding(vocab_size, embedding_dim, input_length=max_length),\n",
        "    tf.keras.layers.GlobalAveragePooling1D(),\n",
        "    tf.keras.layers.Dense(24, activation='relu'),\n",
        "    tf.keras.layers.Dense(1, activation='sigmoid')\n",
        "])\n",
        "\n",
        "model.compile(loss='binary_crossentropy', optimizer='adam', metrics=['accuracy'])"
      ],
      "execution_count": 18,
      "outputs": []
    },
    {
      "cell_type": "code",
      "metadata": {
        "id": "4JiFWLU-g6Hc",
        "colab_type": "code",
        "colab": {
          "base_uri": "https://localhost:8080/",
          "height": 305
        },
        "outputId": "2c548a73-72ee-4b18-bbbd-ce4abfa473cc"
      },
      "source": [
        "model.summary()"
      ],
      "execution_count": 19,
      "outputs": [
        {
          "output_type": "stream",
          "text": [
            "Model: \"sequential\"\n",
            "_________________________________________________________________\n",
            "Layer (type)                 Output Shape              Param #   \n",
            "=================================================================\n",
            "embedding_1 (Embedding)      (None, 100, 16)           160000    \n",
            "_________________________________________________________________\n",
            "global_average_pooling1d_1 ( (None, 16)                0         \n",
            "_________________________________________________________________\n",
            "dense_1 (Dense)              (None, 24)                408       \n",
            "_________________________________________________________________\n",
            "dense_2 (Dense)              (None, 1)                 25        \n",
            "=================================================================\n",
            "Total params: 160,433\n",
            "Trainable params: 160,433\n",
            "Non-trainable params: 0\n",
            "_________________________________________________________________\n"
          ],
          "name": "stdout"
        }
      ]
    },
    {
      "cell_type": "code",
      "metadata": {
        "id": "b4NbBRTBg8c6",
        "colab_type": "code",
        "colab": {
          "base_uri": "https://localhost:8080/",
          "height": 1000
        },
        "outputId": "398ba666-3744-4fd9-85d2-495e0b1bcfed"
      },
      "source": [
        "num_epochs = 30\n",
        "# verbose: 0, 1, or 2. Verbosity mode. 0 = silent, 1 = progress bar, 2 = one line per epoch. Note that the progress bar is not particularly useful when logged to a file, so verbose=2 is recommended when not running interactively\n",
        "history = model.fit(training_padded, training_labels, epochs=num_epochs, validation_data=(testing_padded, testing_labels), verbose=2)\n"
      ],
      "execution_count": 24,
      "outputs": [
        {
          "output_type": "stream",
          "text": [
            "Epoch 1/30\n",
            "625/625 - 2s - loss: 0.6655 - accuracy: 0.5782 - val_loss: 0.5901 - val_accuracy: 0.7356\n",
            "Epoch 2/30\n",
            "625/625 - 2s - loss: 0.4452 - accuracy: 0.8263 - val_loss: 0.3956 - val_accuracy: 0.8314\n",
            "Epoch 3/30\n",
            "625/625 - 2s - loss: 0.3181 - accuracy: 0.8733 - val_loss: 0.3572 - val_accuracy: 0.8502\n",
            "Epoch 4/30\n",
            "625/625 - 2s - loss: 0.2641 - accuracy: 0.8978 - val_loss: 0.3468 - val_accuracy: 0.8550\n",
            "Epoch 5/30\n",
            "625/625 - 2s - loss: 0.2268 - accuracy: 0.9119 - val_loss: 0.3619 - val_accuracy: 0.8419\n",
            "Epoch 6/30\n",
            "625/625 - 2s - loss: 0.1978 - accuracy: 0.9241 - val_loss: 0.3514 - val_accuracy: 0.8541\n",
            "Epoch 7/30\n",
            "625/625 - 2s - loss: 0.1758 - accuracy: 0.9330 - val_loss: 0.3663 - val_accuracy: 0.8535\n",
            "Epoch 8/30\n",
            "625/625 - 2s - loss: 0.1575 - accuracy: 0.9417 - val_loss: 0.3790 - val_accuracy: 0.8538\n",
            "Epoch 9/30\n",
            "625/625 - 2s - loss: 0.1415 - accuracy: 0.9475 - val_loss: 0.3966 - val_accuracy: 0.8514\n",
            "Epoch 10/30\n",
            "625/625 - 2s - loss: 0.1277 - accuracy: 0.9549 - val_loss: 0.4180 - val_accuracy: 0.8514\n",
            "Epoch 11/30\n",
            "625/625 - 2s - loss: 0.1172 - accuracy: 0.9589 - val_loss: 0.4555 - val_accuracy: 0.8380\n",
            "Epoch 12/30\n",
            "625/625 - 2s - loss: 0.1057 - accuracy: 0.9639 - val_loss: 0.4740 - val_accuracy: 0.8417\n",
            "Epoch 13/30\n",
            "625/625 - 2s - loss: 0.0974 - accuracy: 0.9672 - val_loss: 0.5025 - val_accuracy: 0.8377\n",
            "Epoch 14/30\n",
            "625/625 - 2s - loss: 0.0893 - accuracy: 0.9694 - val_loss: 0.5275 - val_accuracy: 0.8346\n",
            "Epoch 15/30\n",
            "625/625 - 2s - loss: 0.0822 - accuracy: 0.9725 - val_loss: 0.5548 - val_accuracy: 0.8344\n",
            "Epoch 16/30\n",
            "625/625 - 2s - loss: 0.0758 - accuracy: 0.9753 - val_loss: 0.5765 - val_accuracy: 0.8354\n",
            "Epoch 17/30\n",
            "625/625 - 2s - loss: 0.0685 - accuracy: 0.9781 - val_loss: 0.6128 - val_accuracy: 0.8328\n",
            "Epoch 18/30\n",
            "625/625 - 2s - loss: 0.0654 - accuracy: 0.9786 - val_loss: 0.6401 - val_accuracy: 0.8278\n",
            "Epoch 19/30\n",
            "625/625 - 2s - loss: 0.0582 - accuracy: 0.9812 - val_loss: 0.6734 - val_accuracy: 0.8278\n",
            "Epoch 20/30\n",
            "625/625 - 2s - loss: 0.0534 - accuracy: 0.9829 - val_loss: 0.7286 - val_accuracy: 0.8259\n",
            "Epoch 21/30\n",
            "625/625 - 2s - loss: 0.0491 - accuracy: 0.9850 - val_loss: 0.7465 - val_accuracy: 0.8281\n",
            "Epoch 22/30\n",
            "625/625 - 2s - loss: 0.0447 - accuracy: 0.9867 - val_loss: 0.8201 - val_accuracy: 0.8219\n",
            "Epoch 23/30\n",
            "625/625 - 2s - loss: 0.0408 - accuracy: 0.9882 - val_loss: 0.8201 - val_accuracy: 0.8192\n",
            "Epoch 24/30\n",
            "625/625 - 2s - loss: 0.0377 - accuracy: 0.9891 - val_loss: 0.8831 - val_accuracy: 0.8182\n",
            "Epoch 25/30\n",
            "625/625 - 2s - loss: 0.0345 - accuracy: 0.9905 - val_loss: 0.8974 - val_accuracy: 0.8147\n",
            "Epoch 26/30\n",
            "625/625 - 2s - loss: 0.0331 - accuracy: 0.9908 - val_loss: 0.9369 - val_accuracy: 0.8180\n",
            "Epoch 27/30\n",
            "625/625 - 2s - loss: 0.0287 - accuracy: 0.9921 - val_loss: 0.9864 - val_accuracy: 0.8185\n",
            "Epoch 28/30\n",
            "625/625 - 2s - loss: 0.0265 - accuracy: 0.9933 - val_loss: 1.0186 - val_accuracy: 0.8123\n",
            "Epoch 29/30\n",
            "625/625 - 2s - loss: 0.0265 - accuracy: 0.9925 - val_loss: 1.0643 - val_accuracy: 0.8147\n",
            "Epoch 30/30\n",
            "625/625 - 2s - loss: 0.0227 - accuracy: 0.9940 - val_loss: 1.1056 - val_accuracy: 0.8126\n"
          ],
          "name": "stdout"
        }
      ]
    },
    {
      "cell_type": "code",
      "metadata": {
        "id": "sIyUaW3clnO0",
        "colab_type": "code",
        "colab": {
          "base_uri": "https://localhost:8080/",
          "height": 541
        },
        "outputId": "e3bf9b12-f087-48df-a2ce-cc567daf1484"
      },
      "source": [
        "import matplotlib.pyplot as plt\n",
        "\n",
        "def plot_graphs(history, string):\n",
        "  plt.plot(history.history[string])\n",
        "  plt.plot(history.history['val_' + string])\n",
        "  plt.xlabel(\"Epochs\")\n",
        "  plt.ylabel(string)\n",
        "  plt.legend([string, 'val_' + string])\n",
        "  plt.show()\n",
        "\n",
        "plot_graphs(history, \"accuracy\")\n",
        "plot_graphs(history, \"loss\")"
      ],
      "execution_count": 26,
      "outputs": [
        {
          "output_type": "display_data",
          "data": {
            "image/png": "[encoded data removed]",
            "text/plain": [
              "<Figure size 432x288 with 1 Axes>"
            ]
          },
          "metadata": {
            "tags": [],
            "needs_background": "light"
          }
        },
        {
          "output_type": "display_data",
          "data": {
            "image/png": "[encoded data removed]",
            "text/plain": [
              "<Figure size 432x288 with 1 Axes>"
            ]
          },
          "metadata": {
            "tags": [],
            "needs_background": "light"
          }
        }
      ]
    },
    {
      "cell_type": "code",
      "metadata": {
        "id": "uztAs_lknIFa",
        "colab_type": "code",
        "colab": {}
      },
      "source": [
        "reverse_word_index = dict([(value, key) for (key, value) in word_index.items()]) "
      ],
      "execution_count": 27,
      "outputs": []
    },
    {
      "cell_type": "code",
      "metadata": {
        "id": "AeOejVsBow6H",
        "colab_type": "code",
        "colab": {
          "base_uri": "https://localhost:8080/",
          "height": 35
        },
        "outputId": "1b928fcb-125d-4a4a-fcb3-ed48b7c285c9"
      },
      "source": [
        "# 反转后的词汇表 {1:'<OOV>', 2:'to',...}\n",
        "reverse_word_index[1]"
      ],
      "execution_count": 28,
      "outputs": [
        {
          "output_type": "execute_result",
          "data": {
            "text/plain": [
              "'<OOV>'"
            ]
          },
          "metadata": {
            "tags": []
          },
          "execution_count": 28
        }
      ]
    },
    {
      "cell_type": "code",
      "metadata": {
        "id": "QmOx5lNlo3AC",
        "colab_type": "code",
        "colab": {
          "base_uri": "https://localhost:8080/",
          "height": 35
        },
        "outputId": "8aeb3127-8c8e-4271-c124-95923910a8bc"
      },
      "source": [
        "reverse_word_index[2]"
      ],
      "execution_count": 29,
      "outputs": [
        {
          "output_type": "execute_result",
          "data": {
            "text/plain": [
              "'to'"
            ]
          },
          "metadata": {
            "tags": []
          },
          "execution_count": 29
        }
      ]
    },
    {
      "cell_type": "code",
      "metadata": {
        "id": "j87u4GNlo5K5",
        "colab_type": "code",
        "colab": {
          "base_uri": "https://localhost:8080/",
          "height": 55
        },
        "outputId": "adad8890-db54-4309-a414-ffb33f883acd"
      },
      "source": [
        "def decode_sentence(text):\n",
        "  # get(i, '?') 指定的键值不存在时，用？代替\n",
        "  return ' '.join([reverse_word_index.get(i, '?') for i in text])\n",
        "\n",
        "decode_sentence(training_padded[0])"
      ],
      "execution_count": 31,
      "outputs": [
        {
          "output_type": "execute_result",
          "data": {
            "text/plain": [
              "\"former <OOV> store clerk sues over secret 'black <OOV> for minority shoppers ? ? ? ? ? ? ? ? ? ? ? ? ? ? ? ? ? ? ? ? ? ? ? ? ? ? ? ? ? ? ? ? ? ? ? ? ? ? ? ? ? ? ? ? ? ? ? ? ? ? ? ? ? ? ? ? ? ? ? ? ? ? ? ? ? ? ? ? ? ? ? ? ? ? ? ? ? ? ? ? ? ? ? ? ? ? ? ?\""
            ]
          },
          "metadata": {
            "tags": []
          },
          "execution_count": 31
        }
      ]
    },
    {
      "cell_type": "code",
      "metadata": {
        "id": "wmLeoU-er8pb",
        "colab_type": "code",
        "colab": {
          "base_uri": "https://localhost:8080/",
          "height": 35
        },
        "outputId": "57673afa-a1c2-4b6e-bcd6-0db5eb89ef64"
      },
      "source": [
        "len(training_padded[0])"
      ],
      "execution_count": 33,
      "outputs": [
        {
          "output_type": "execute_result",
          "data": {
            "text/plain": [
              "100"
            ]
          },
          "metadata": {
            "tags": []
          },
          "execution_count": 33
        }
      ]
    },
    {
      "cell_type": "code",
      "metadata": {
        "id": "-HtbReeTp08F",
        "colab_type": "code",
        "colab": {
          "base_uri": "https://localhost:8080/",
          "height": 35
        },
        "outputId": "e81c3a1b-34f4-4c7b-cd5e-998250c89b0e"
      },
      "source": [
        "sentences[0]"
      ],
      "execution_count": 32,
      "outputs": [
        {
          "output_type": "execute_result",
          "data": {
            "text/plain": [
              "\"former versace store clerk sues over secret 'black code' for minority shoppers\""
            ]
          },
          "metadata": {
            "tags": []
          },
          "execution_count": 32
        }
      ]
    },
    {
      "cell_type": "code",
      "metadata": {
        "id": "eDfXTteLrQyr",
        "colab_type": "code",
        "colab": {}
      },
      "source": [
        "new_sentences = [\"granny starting to fear spiders in the garden might be real\", \"game of thrones season finale showing this sunday night\"]\n",
        "sequence = tokenizer.texts_to_sequences(new_sentences)\n",
        "padded = pad_sequences(sequence, maxlen=max_length, padding=padding_type, truncating=trunc_type)"
      ],
      "execution_count": 38,
      "outputs": []
    },
    {
      "cell_type": "code",
      "metadata": {
        "id": "J4uA_Axeu452",
        "colab_type": "code",
        "colab": {
          "base_uri": "https://localhost:8080/",
          "height": 35
        },
        "outputId": "84634ff5-0eeb-4eb8-f321-aec23d5e8658"
      },
      "source": [
        "print(sequence)"
      ],
      "execution_count": 39,
      "outputs": [
        {
          "output_type": "stream",
          "text": [
            "[[1, 890, 2, 891, 1, 5, 4, 2565, 380, 22, 178], [249, 3, 1, 247, 3385, 2933, 20, 1551, 259]]\n"
          ],
          "name": "stdout"
        }
      ]
    },
    {
      "cell_type": "code",
      "metadata": {
        "id": "BMZEDs5fu8oA",
        "colab_type": "code",
        "colab": {
          "base_uri": "https://localhost:8080/",
          "height": 305
        },
        "outputId": "c986e14b-d788-4cc4-cb26-72061e51015b"
      },
      "source": [
        "print(padded)"
      ],
      "execution_count": 40,
      "outputs": [
        {
          "output_type": "stream",
          "text": [
            "[[   1  890    2  891    1    5    4 2565  380   22  178    0    0    0\n",
            "     0    0    0    0    0    0    0    0    0    0    0    0    0    0\n",
            "     0    0    0    0    0    0    0    0    0    0    0    0    0    0\n",
            "     0    0    0    0    0    0    0    0    0    0    0    0    0    0\n",
            "     0    0    0    0    0    0    0    0    0    0    0    0    0    0\n",
            "     0    0    0    0    0    0    0    0    0    0    0    0    0    0\n",
            "     0    0    0    0    0    0    0    0    0    0    0    0    0    0\n",
            "     0    0]\n",
            " [ 249    3    1  247 3385 2933   20 1551  259    0    0    0    0    0\n",
            "     0    0    0    0    0    0    0    0    0    0    0    0    0    0\n",
            "     0    0    0    0    0    0    0    0    0    0    0    0    0    0\n",
            "     0    0    0    0    0    0    0    0    0    0    0    0    0    0\n",
            "     0    0    0    0    0    0    0    0    0    0    0    0    0    0\n",
            "     0    0    0    0    0    0    0    0    0    0    0    0    0    0\n",
            "     0    0    0    0    0    0    0    0    0    0    0    0    0    0\n",
            "     0    0]]\n"
          ],
          "name": "stdout"
        }
      ]
    },
    {
      "cell_type": "code",
      "metadata": {
        "id": "YmlGMfSvvEX3",
        "colab_type": "code",
        "colab": {
          "base_uri": "https://localhost:8080/",
          "height": 53
        },
        "outputId": "377766bc-6dbc-4be0-dbec-65663c27f814"
      },
      "source": [
        "# 预测第一个句子的值接近1，第二个句子接近0\n",
        "print(model.predict(padded))"
      ],
      "execution_count": 41,
      "outputs": [
        {
          "output_type": "stream",
          "text": [
            "[[9.7212243e-01]\n",
            " [3.7886693e-06]]\n"
          ],
          "name": "stdout"
        }
      ]
    },
    {
      "cell_type": "code",
      "metadata": {
        "id": "tfne2GyWvMMo",
        "colab_type": "code",
        "colab": {}
      },
      "source": [
        ""
      ],
      "execution_count": null,
      "outputs": []
    }
  ]
}