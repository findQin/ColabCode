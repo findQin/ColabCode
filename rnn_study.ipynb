{
  "nbformat": 4,
  "nbformat_minor": 0,
  "metadata": {
    "colab": {
      "name": "rnn_study.ipynb",
      "provenance": [],
      "collapsed_sections": [],
      "mount_file_id": "1D0Zjy2LffQDwkpGcxRniJVIcgFAICsVK",
      "authorship_tag": "ABX9TyOX+WTp5MeIiHJ0bozrdaBE",
      "include_colab_link": true
    },
    "kernelspec": {
      "name": "python3",
      "display_name": "Python 3"
    }
  },
  "cells": [
    {
      "cell_type": "markdown",
      "metadata": {
        "id": "view-in-github",
        "colab_type": "text"
      },
      "source": [
        "<a href=\"https://colab.research.google.com/github/findQin/ColabCode/blob/master/rnn_study.ipynb\" target=\"_parent\"><img src=\"https://colab.research.google.com/assets/colab-badge.svg\" alt=\"Open In Colab\"/></a>"
      ]
    },
    {
      "cell_type": "code",
      "metadata": {
        "id": "aB8_CziUgNEX",
        "colab_type": "code",
        "colab": {}
      },
      "source": [
        "import matplotlib.pyplot as plt\n",
        "import tensorflow as tf\n",
        "import tensorflow_datasets as tfds"
      ],
      "execution_count": 16,
      "outputs": []
    },
    {
      "cell_type": "code",
      "metadata": {
        "id": "Z9VgTx3PipR-",
        "colab_type": "code",
        "colab": {}
      },
      "source": [
        "from scipy.spatial.distance import cdist\n",
        "from tensorflow.keras.models import Sequential\n",
        "from tensorflow.keras.layers import Dense, GRU, Embedding\n",
        "from tensorflow.keras.optimizers import Adam\n",
        "from tensorflow.keras.preprocessing.text import Tokenizer\n",
        "from tensorflow.keras.preprocessing.sequence import pad_sequences"
      ],
      "execution_count": 17,
      "outputs": []
    },
    {
      "cell_type": "code",
      "metadata": {
        "id": "5_eBbczRvOPF",
        "colab_type": "code",
        "colab": {}
      },
      "source": [
        "dataset = tfds.load('imdb_reviews/plain_text', as_supervised=True)"
      ],
      "execution_count": 18,
      "outputs": []
    },
    {
      "cell_type": "code",
      "metadata": {
        "id": "AnYySW3LwwYH",
        "colab_type": "code",
        "colab": {}
      },
      "source": [
        "train_data, test_data = dataset['train'], dataset['test']"
      ],
      "execution_count": 23,
      "outputs": []
    },
    {
      "cell_type": "code",
      "metadata": {
        "id": "f3AMr2H716RP",
        "colab_type": "code",
        "colab": {}
      },
      "source": [
        "train_examples_batch, train_labels_batch = next(iter(train_data.batch(10)))"
      ],
      "execution_count": 25,
      "outputs": []
    },
    {
      "cell_type": "code",
      "metadata": {
        "id": "3nFF7hwJB4jk",
        "colab_type": "code",
        "colab": {
          "base_uri": "https://localhost:8080/",
          "height": 253
        },
        "outputId": "6dc46157-3ed7-4383-c3b6-10dd986bf0fc"
      },
      "source": [
        "train_examples_batch"
      ],
      "execution_count": 26,
      "outputs": [
        {
          "output_type": "execute_result",
          "data": {
            "text/plain": [
              "<tf.Tensor: shape=(10,), dtype=string, numpy=\n",
              "array([b\"This was an absolutely terrible movie. Don't be lured in by Christopher Walken or Michael Ironside. Both are great actors, but this must simply be their worst role in history. Even their great acting could not redeem this movie's ridiculous storyline. This movie is an early nineties US propaganda piece. The most pathetic scenes were those when the Columbian rebels were making their cases for revolutions. Maria Conchita Alonso appeared phony, and her pseudo-love affair with Walken was nothing but a pathetic emotional plug in a movie that was devoid of any real meaning. I am disappointed that there are movies like this, ruining actor's like Christopher Walken's good name. I could barely sit through it.\",\n",
              "       b'I have been known to fall asleep during films, but this is usually due to a combination of things including, really tired, being warm and comfortable on the sette and having just eaten a lot. However on this occasion I fell asleep because the film was rubbish. The plot development was constant. Constantly slow and boring. Things seemed to happen, but with no explanation of what was causing them or why. I admit, I may have missed part of the film, but i watched the majority of it and everything just seemed to happen of its own accord without any real concern for anything else. I cant recommend this film at all.',\n",
              "       b'Mann photographs the Alberta Rocky Mountains in a superb fashion, and Jimmy Stewart and Walter Brennan give enjoyable performances as they always seem to do. <br /><br />But come on Hollywood - a Mountie telling the people of Dawson City, Yukon to elect themselves a marshal (yes a marshal!) and to enforce the law themselves, then gunfighters battling it out on the streets for control of the town? <br /><br />Nothing even remotely resembling that happened on the Canadian side of the border during the Klondike gold rush. Mr. Mann and company appear to have mistaken Dawson City for Deadwood, the Canadian North for the American Wild West.<br /><br />Canadian viewers be prepared for a Reefer Madness type of enjoyable howl with this ludicrous plot, or, to shake your head in disgust.',\n",
              "       b'This is the kind of film for a snowy Sunday afternoon when the rest of the world can go ahead with its own business as you descend into a big arm-chair and mellow for a couple of hours. Wonderful performances from Cher and Nicolas Cage (as always) gently row the plot along. There are no rapids to cross, no dangerous waters, just a warm and witty paddle through New York life at its best. A family film in every sense and one that deserves the praise it received.',\n",
              "       b'As others have mentioned, all the women that go nude in this film are mostly absolutely gorgeous. The plot very ably shows the hypocrisy of the female libido. When men are around they want to be pursued, but when no \"men\" are around, they become the pursuers of a 14 year old boy. And the boy becomes a man really fast (we should all be so lucky at this age!). He then gets up the courage to pursue his true love.',\n",
              "       b\"This is a film which should be seen by anybody interested in, effected by, or suffering from an eating disorder. It is an amazingly accurate and sensitive portrayal of bulimia in a teenage girl, its causes and its symptoms. The girl is played by one of the most brilliant young actresses working in cinema today, Alison Lohman, who was later so spectacular in 'Where the Truth Lies'. I would recommend that this film be shown in all schools, as you will never see a better on this subject. Alison Lohman is absolutely outstanding, and one marvels at her ability to convey the anguish of a girl suffering from this compulsive disorder. If barometers tell us the air pressure, Alison Lohman tells us the emotional pressure with the same degree of accuracy. Her emotional range is so precise, each scene could be measured microscopically for its gradations of trauma, on a scale of rising hysteria and desperation which reaches unbearable intensity. Mare Winningham is the perfect choice to play her mother, and does so with immense sympathy and a range of emotions just as finely tuned as Lohman's. Together, they make a pair of sensitive emotional oscillators vibrating in resonance with one another. This film is really an astonishing achievement, and director Katt Shea should be proud of it. The only reason for not seeing it is if you are not interested in people. But even if you like nature films best, this is after all animal behaviour at the sharp edge. Bulimia is an extreme version of how a tormented soul can destroy her own body in a frenzy of despair. And if we don't sympathise with people suffering from the depths of despair, then we are dead inside.\",\n",
              "       b'Okay, you have:<br /><br />Penelope Keith as Miss Herringbone-Tweed, B.B.E. (Backbone of England.) She\\'s killed off in the first scene - that\\'s right, folks; this show has no backbone!<br /><br />Peter O\\'Toole as Ol\\' Colonel Cricket from The First War and now the emblazered Lord of the Manor.<br /><br />Joanna Lumley as the ensweatered Lady of the Manor, 20 years younger than the colonel and 20 years past her own prime but still glamourous (Brit spelling, not mine) enough to have a toy-boy on the side. It\\'s alright, they have Col. Cricket\\'s full knowledge and consent (they guy even comes \\'round for Christmas!) Still, she\\'s considerate of the colonel enough to have said toy-boy her own age (what a gal!)<br /><br />David McCallum as said toy-boy, equally as pointlessly glamourous as his squeeze. Pilcher couldn\\'t come up with any cover for him within the story, so she gave him a hush-hush job at the Circus.<br /><br />and finally:<br /><br />Susan Hampshire as Miss Polonia Teacups, Venerable Headmistress of the Venerable Girls\\' Boarding-School, serving tea in her office with a dash of deep, poignant advice for life in the outside world just before graduation. Her best bit of advice: \"I\\'ve only been to Nancherrow (the local Stately Home of England) once. I thought it was very beautiful but, somehow, not part of the real world.\" Well, we can\\'t say they didn\\'t warn us.<br /><br />Ah, Susan - time was, your character would have been running the whole show. They don\\'t write \\'em like that any more. Our loss, not yours.<br /><br />So - with a cast and setting like this, you have the re-makings of \"Brideshead Revisited,\" right?<br /><br />Wrong! They took these 1-dimensional supporting roles because they paid so well. After all, acting is one of the oldest temp-jobs there is (YOU name another!)<br /><br />First warning sign: lots and lots of backlighting. They get around it by shooting outdoors - \"hey, it\\'s just the sunlight!\"<br /><br />Second warning sign: Leading Lady cries a lot. When not crying, her eyes are moist. That\\'s the law of romance novels: Leading Lady is \"dewy-eyed.\"<br /><br />Henceforth, Leading Lady shall be known as L.L.<br /><br />Third warning sign: L.L. actually has stars in her eyes when she\\'s in love. Still, I\\'ll give Emily Mortimer an award just for having to act with that spotlight in her eyes (I wonder . did they use contacts?)<br /><br />And lastly, fourth warning sign: no on-screen female character is \"Mrs.\" She\\'s either \"Miss\" or \"Lady.\"<br /><br />When all was said and done, I still couldn\\'t tell you who was pursuing whom and why. I couldn\\'t even tell you what was said and done.<br /><br />To sum up: they all live through World War II without anything happening to them at all.<br /><br />OK, at the end, L.L. finds she\\'s lost her parents to the Japanese prison camps and baby sis comes home catatonic. Meanwhile (there\\'s always a \"meanwhile,\") some young guy L.L. had a crush on (when, I don\\'t know) comes home from some wartime tough spot and is found living on the street by Lady of the Manor (must be some street if SHE\\'s going to find him there.) Both war casualties are whisked away to recover at Nancherrow (SOMEBODY has to be \"whisked away\" SOMEWHERE in these romance stories!)<br /><br />Great drama.',\n",
              "       b'The film is based on a genuine 1950s novel.<br /><br />Journalist Colin McInnes wrote a set of three \"London novels\": \"Absolute Beginners\", \"City of Spades\" and \"Mr Love and Justice\". I have read all three. The first two are excellent. The last, perhaps an experiment that did not come off. But McInnes\\'s work is highly acclaimed; and rightly so. This musical is the novelist\\'s ultimate nightmare - to see the fruits of one\\'s mind being turned into a glitzy, badly-acted, soporific one-dimensional apology of a film that says it captures the spirit of 1950s London, and does nothing of the sort.<br /><br />Thank goodness Colin McInnes wasn\\'t alive to witness it.',\n",
              "       b'I really love the sexy action and sci-fi films of the sixties and its because of the actress\\'s that appeared in them. They found the sexiest women to be in these films and it didn\\'t matter if they could act (Remember \"Candy\"?). The reason I was disappointed by this film was because it wasn\\'t nostalgic enough. The story here has a European sci-fi film called \"Dragonfly\" being made and the director is fired. So the producers decide to let a young aspiring filmmaker (Jeremy Davies) to complete the picture. They\\'re is one real beautiful woman in the film who plays Dragonfly but she\\'s barely in it. Film is written and directed by Roman Coppola who uses some of his fathers exploits from his early days and puts it into the script. I wish the film could have been an homage to those early films. They could have lots of cameos by actors who appeared in them. There is one actor in this film who was popular from the sixties and its John Phillip Law (Barbarella). Gerard Depardieu, Giancarlo Giannini and Dean Stockwell appear as well. I guess I\\'m going to have to continue waiting for a director to make a good homage to the films of the sixties. If any are reading this, \"Make it as sexy as you can\"! I\\'ll be waiting!',\n",
              "       b'Sure, this one isn\\'t really a blockbuster, nor does it target such a position. \"Dieter\" is the first name of a quite popular German musician, who is either loved or hated for his kind of acting and thats exactly what this movie is about. It is based on the autobiography \"Dieter Bohlen\" wrote a few years ago but isn\\'t meant to be accurate on that. The movie is filled with some sexual offensive content (at least for American standard) which is either amusing (not for the other \"actors\" of course) or dumb - it depends on your individual kind of humor or on you being a \"Bohlen\"-Fan or not. Technically speaking there isn\\'t much to criticize. Speaking of me I find this movie to be an OK-movie.'],\n",
              "      dtype=object)>"
            ]
          },
          "metadata": {
            "tags": []
          },
          "execution_count": 26
        }
      ]
    },
    {
      "cell_type": "code",
      "metadata": {
        "id": "nlzXn-WKCVGL",
        "colab_type": "code",
        "colab": {
          "base_uri": "https://localhost:8080/",
          "height": 35
        },
        "outputId": "90ca5d6c-7ae8-44b6-d543-47996995dd04"
      },
      "source": [
        "train_labels_batch"
      ],
      "execution_count": 27,
      "outputs": [
        {
          "output_type": "execute_result",
          "data": {
            "text/plain": [
              "<tf.Tensor: shape=(10,), dtype=int64, numpy=array([0, 0, 0, 1, 1, 1, 0, 0, 0, 0])>"
            ]
          },
          "metadata": {
            "tags": []
          },
          "execution_count": 27
        }
      ]
    },
    {
      "cell_type": "code",
      "metadata": {
        "id": "RMRAzJj9CZT7",
        "colab_type": "code",
        "colab": {}
      },
      "source": [
        "x_train, y_train = next(iter(train_data.batch(25000)))"
      ],
      "execution_count": 28,
      "outputs": []
    },
    {
      "cell_type": "code",
      "metadata": {
        "id": "fLyO21atN9aD",
        "colab_type": "code",
        "colab": {
          "base_uri": "https://localhost:8080/",
          "height": 35
        },
        "outputId": "c549bf89-26b0-4f48-aa36-123eebc48f9c"
      },
      "source": [
        "print(\"Train-set size: \", len(x_train))"
      ],
      "execution_count": 29,
      "outputs": [
        {
          "output_type": "stream",
          "text": [
            "Train-set size:  25000\n"
          ],
          "name": "stdout"
        }
      ]
    },
    {
      "cell_type": "code",
      "metadata": {
        "id": "bBrTeJF-OB9Z",
        "colab_type": "code",
        "colab": {}
      },
      "source": [
        "x_test, y_test = next(iter(test_data.batch(25000)))"
      ],
      "execution_count": 30,
      "outputs": []
    },
    {
      "cell_type": "code",
      "metadata": {
        "id": "6ESOgSCGOK2n",
        "colab_type": "code",
        "colab": {
          "base_uri": "https://localhost:8080/",
          "height": 35
        },
        "outputId": "707b5062-5f06-4846-e1d0-15ee22af923b"
      },
      "source": [
        "print(\"Test-set size:  \", len(x_test))"
      ],
      "execution_count": 32,
      "outputs": [
        {
          "output_type": "stream",
          "text": [
            "Test-set size:   25000\n"
          ],
          "name": "stdout"
        }
      ]
    },
    {
      "cell_type": "code",
      "metadata": {
        "id": "CfX7uNpeUARm",
        "colab_type": "code",
        "colab": {
          "base_uri": "https://localhost:8080/",
          "height": 55
        },
        "outputId": "7950176d-3b9c-4e2e-9415-61ea58aaab22"
      },
      "source": [
        "x_train[0]"
      ],
      "execution_count": 41,
      "outputs": [
        {
          "output_type": "execute_result",
          "data": {
            "text/plain": [
              "<tf.Tensor: shape=(), dtype=string, numpy=b\"This was an absolutely terrible movie. Don't be lured in by Christopher Walken or Michael Ironside. Both are great actors, but this must simply be their worst role in history. Even their great acting could not redeem this movie's ridiculous storyline. This movie is an early nineties US propaganda piece. The most pathetic scenes were those when the Columbian rebels were making their cases for revolutions. Maria Conchita Alonso appeared phony, and her pseudo-love affair with Walken was nothing but a pathetic emotional plug in a movie that was devoid of any real meaning. I am disappointed that there are movies like this, ruining actor's like Christopher Walken's good name. I could barely sit through it.\">"
            ]
          },
          "metadata": {
            "tags": []
          },
          "execution_count": 41
        }
      ]
    },
    {
      "cell_type": "code",
      "metadata": {
        "id": "rIGNz1EUONQR",
        "colab_type": "code",
        "colab": {
          "base_uri": "https://localhost:8080/",
          "height": 55
        },
        "outputId": "9dd33d40-f942-4d8d-8ad5-0ff5bf857f7d"
      },
      "source": [
        "x_train[0].numpy()"
      ],
      "execution_count": 40,
      "outputs": [
        {
          "output_type": "execute_result",
          "data": {
            "text/plain": [
              "b\"This was an absolutely terrible movie. Don't be lured in by Christopher Walken or Michael Ironside. Both are great actors, but this must simply be their worst role in history. Even their great acting could not redeem this movie's ridiculous storyline. This movie is an early nineties US propaganda piece. The most pathetic scenes were those when the Columbian rebels were making their cases for revolutions. Maria Conchita Alonso appeared phony, and her pseudo-love affair with Walken was nothing but a pathetic emotional plug in a movie that was devoid of any real meaning. I am disappointed that there are movies like this, ruining actor's like Christopher Walken's good name. I could barely sit through it.\""
            ]
          },
          "metadata": {
            "tags": []
          },
          "execution_count": 40
        }
      ]
    },
    {
      "cell_type": "code",
      "metadata": {
        "id": "yWe7v7n8U2YZ",
        "colab_type": "code",
        "colab": {}
      },
      "source": [
        "x_train_text = x_train.numpy().tolist()"
      ],
      "execution_count": 46,
      "outputs": []
    },
    {
      "cell_type": "code",
      "metadata": {
        "id": "xjW66UpHWDbT",
        "colab_type": "code",
        "colab": {
          "base_uri": "https://localhost:8080/",
          "height": 35
        },
        "outputId": "fc4d68de-063b-4958-f54e-c88a1258b935"
      },
      "source": [
        "type(x_train_text)"
      ],
      "execution_count": 48,
      "outputs": [
        {
          "output_type": "execute_result",
          "data": {
            "text/plain": [
              "list"
            ]
          },
          "metadata": {
            "tags": []
          },
          "execution_count": 48
        }
      ]
    },
    {
      "cell_type": "code",
      "metadata": {
        "id": "8i4mJB-6WqcC",
        "colab_type": "code",
        "colab": {
          "base_uri": "https://localhost:8080/",
          "height": 197
        },
        "outputId": "cfd69036-18a5-423d-b6cb-049cf7304d6e"
      },
      "source": [
        "for x in x_train_text[:10]:\n",
        "  print(type(x))\n"
      ],
      "execution_count": 50,
      "outputs": [
        {
          "output_type": "stream",
          "text": [
            "<class 'bytes'>\n",
            "<class 'bytes'>\n",
            "<class 'bytes'>\n",
            "<class 'bytes'>\n",
            "<class 'bytes'>\n",
            "<class 'bytes'>\n",
            "<class 'bytes'>\n",
            "<class 'bytes'>\n",
            "<class 'bytes'>\n",
            "<class 'bytes'>\n"
          ],
          "name": "stdout"
        }
      ]
    },
    {
      "cell_type": "code",
      "metadata": {
        "id": "jiU0M0ybXFMT",
        "colab_type": "code",
        "colab": {}
      },
      "source": [
        "x_train_data = []\n",
        "\n",
        "for x in x_train_text[:]:\n",
        "  x_train_data.append(x.decode('utf-8'))"
      ],
      "execution_count": 53,
      "outputs": []
    },
    {
      "cell_type": "code",
      "metadata": {
        "id": "NQvbObV5XZDx",
        "colab_type": "code",
        "colab": {
          "base_uri": "https://localhost:8080/",
          "height": 35
        },
        "outputId": "9e3089a2-6297-4bb8-a05e-d2e19f6dabae"
      },
      "source": [
        "len(x_train_data)"
      ],
      "execution_count": 54,
      "outputs": [
        {
          "output_type": "execute_result",
          "data": {
            "text/plain": [
              "25000"
            ]
          },
          "metadata": {
            "tags": []
          },
          "execution_count": 54
        }
      ]
    },
    {
      "cell_type": "code",
      "metadata": {
        "id": "1XMv75yhZOpm",
        "colab_type": "code",
        "colab": {}
      },
      "source": [
        "x_test_text = x_test.numpy().tolist()"
      ],
      "execution_count": 61,
      "outputs": []
    },
    {
      "cell_type": "code",
      "metadata": {
        "id": "PezchG4lZO0p",
        "colab_type": "code",
        "colab": {
          "base_uri": "https://localhost:8080/",
          "height": 35
        },
        "outputId": "2e3ec941-a9cb-4a29-e11c-347527a613fb"
      },
      "source": [
        "type(x_test_text)"
      ],
      "execution_count": 63,
      "outputs": [
        {
          "output_type": "execute_result",
          "data": {
            "text/plain": [
              "list"
            ]
          },
          "metadata": {
            "tags": []
          },
          "execution_count": 63
        }
      ]
    },
    {
      "cell_type": "code",
      "metadata": {
        "id": "R54Hd4_8ZcqY",
        "colab_type": "code",
        "colab": {}
      },
      "source": [
        "x_test_data = []\n",
        "\n",
        "for x in x_test_text[:]:\n",
        "  x_test_data.append(x.decode('utf-8'))"
      ],
      "execution_count": 64,
      "outputs": []
    },
    {
      "cell_type": "code",
      "metadata": {
        "id": "3JOMWHmFZc0J",
        "colab_type": "code",
        "colab": {}
      },
      "source": [
        ""
      ],
      "execution_count": null,
      "outputs": []
    },
    {
      "cell_type": "code",
      "metadata": {
        "id": "cJYws1poOXnR",
        "colab_type": "code",
        "colab": {
          "base_uri": "https://localhost:8080/",
          "height": 35
        },
        "outputId": "4149e794-f31f-42ee-9087-698677f60025"
      },
      "source": [
        "y_train[0]"
      ],
      "execution_count": 34,
      "outputs": [
        {
          "output_type": "execute_result",
          "data": {
            "text/plain": [
              "<tf.Tensor: shape=(), dtype=int64, numpy=0>"
            ]
          },
          "metadata": {
            "tags": []
          },
          "execution_count": 34
        }
      ]
    },
    {
      "cell_type": "code",
      "metadata": {
        "id": "zcvrNA5MOce4",
        "colab_type": "code",
        "colab": {}
      },
      "source": [
        "num_words = 10000"
      ],
      "execution_count": 35,
      "outputs": []
    },
    {
      "cell_type": "code",
      "metadata": {
        "id": "hSABY8V4RYbh",
        "colab_type": "code",
        "colab": {}
      },
      "source": [
        "tokenizer = Tokenizer(num_words=num_words, oov_token=\"<OOV>\")"
      ],
      "execution_count": 37,
      "outputs": []
    },
    {
      "cell_type": "code",
      "metadata": {
        "id": "4BBwOOC_Rbxo",
        "colab_type": "code",
        "colab": {}
      },
      "source": [
        "tokenizer.fit_on_texts(x_train_data)"
      ],
      "execution_count": 55,
      "outputs": []
    },
    {
      "cell_type": "code",
      "metadata": {
        "id": "rL8taxEhR1YY",
        "colab_type": "code",
        "colab": {
          "base_uri": "https://localhost:8080/",
          "height": 1000
        },
        "outputId": "317cec78-8b2d-449e-9364-09d3dfc65336"
      },
      "source": [
        "tokenizer.word_index\n"
      ],
      "execution_count": 56,
      "outputs": [
        {
          "output_type": "execute_result",
          "data": {
            "text/plain": [
              "{'<OOV>': 1,\n",
              " 'the': 2,\n",
              " 'and': 3,\n",
              " 'a': 4,\n",
              " 'of': 5,\n",
              " 'to': 6,\n",
              " 'is': 7,\n",
              " 'br': 8,\n",
              " 'in': 9,\n",
              " 'it': 10,\n",
              " 'i': 11,\n",
              " 'this': 12,\n",
              " 'that': 13,\n",
              " 'was': 14,\n",
              " 'as': 15,\n",
              " 'for': 16,\n",
              " 'with': 17,\n",
              " 'movie': 18,\n",
              " 'but': 19,\n",
              " 'film': 20,\n",
              " 'on': 21,\n",
              " 'not': 22,\n",
              " 'you': 23,\n",
              " 'are': 24,\n",
              " 'his': 25,\n",
              " 'have': 26,\n",
              " 'he': 27,\n",
              " 'be': 28,\n",
              " 'one': 29,\n",
              " 'all': 30,\n",
              " 'at': 31,\n",
              " 'by': 32,\n",
              " 'an': 33,\n",
              " 'they': 34,\n",
              " 'who': 35,\n",
              " 'so': 36,\n",
              " 'from': 37,\n",
              " 'like': 38,\n",
              " 'her': 39,\n",
              " 'or': 40,\n",
              " 'just': 41,\n",
              " 'about': 42,\n",
              " \"it's\": 43,\n",
              " 'out': 44,\n",
              " 'if': 45,\n",
              " 'has': 46,\n",
              " 'some': 47,\n",
              " 'there': 48,\n",
              " 'what': 49,\n",
              " 'good': 50,\n",
              " 'more': 51,\n",
              " 'when': 52,\n",
              " 'very': 53,\n",
              " 'up': 54,\n",
              " 'no': 55,\n",
              " 'time': 56,\n",
              " 'she': 57,\n",
              " 'even': 58,\n",
              " 'my': 59,\n",
              " 'would': 60,\n",
              " 'which': 61,\n",
              " 'only': 62,\n",
              " 'story': 63,\n",
              " 'really': 64,\n",
              " 'see': 65,\n",
              " 'their': 66,\n",
              " 'had': 67,\n",
              " 'can': 68,\n",
              " 'were': 69,\n",
              " 'me': 70,\n",
              " 'well': 71,\n",
              " 'than': 72,\n",
              " 'we': 73,\n",
              " 'much': 74,\n",
              " 'been': 75,\n",
              " 'bad': 76,\n",
              " 'get': 77,\n",
              " 'will': 78,\n",
              " 'do': 79,\n",
              " 'also': 80,\n",
              " 'into': 81,\n",
              " 'people': 82,\n",
              " 'other': 83,\n",
              " 'first': 84,\n",
              " 'great': 85,\n",
              " 'because': 86,\n",
              " 'how': 87,\n",
              " 'him': 88,\n",
              " 'most': 89,\n",
              " \"don't\": 90,\n",
              " 'made': 91,\n",
              " 'its': 92,\n",
              " 'then': 93,\n",
              " 'way': 94,\n",
              " 'make': 95,\n",
              " 'them': 96,\n",
              " 'too': 97,\n",
              " 'could': 98,\n",
              " 'any': 99,\n",
              " 'movies': 100,\n",
              " 'after': 101,\n",
              " 'think': 102,\n",
              " 'characters': 103,\n",
              " 'watch': 104,\n",
              " 'two': 105,\n",
              " 'films': 106,\n",
              " 'character': 107,\n",
              " 'seen': 108,\n",
              " 'many': 109,\n",
              " 'being': 110,\n",
              " 'life': 111,\n",
              " 'plot': 112,\n",
              " 'never': 113,\n",
              " 'acting': 114,\n",
              " 'little': 115,\n",
              " 'best': 116,\n",
              " 'love': 117,\n",
              " 'over': 118,\n",
              " 'where': 119,\n",
              " 'did': 120,\n",
              " 'show': 121,\n",
              " 'know': 122,\n",
              " 'off': 123,\n",
              " 'ever': 124,\n",
              " 'does': 125,\n",
              " 'better': 126,\n",
              " 'your': 127,\n",
              " 'end': 128,\n",
              " 'still': 129,\n",
              " 'man': 130,\n",
              " 'here': 131,\n",
              " 'these': 132,\n",
              " 'say': 133,\n",
              " 'scene': 134,\n",
              " 'while': 135,\n",
              " 'why': 136,\n",
              " 'scenes': 137,\n",
              " 'go': 138,\n",
              " 'such': 139,\n",
              " 'something': 140,\n",
              " 'through': 141,\n",
              " 'should': 142,\n",
              " 'back': 143,\n",
              " \"i'm\": 144,\n",
              " 'real': 145,\n",
              " 'those': 146,\n",
              " 'watching': 147,\n",
              " 'now': 148,\n",
              " 'though': 149,\n",
              " \"doesn't\": 150,\n",
              " 'years': 151,\n",
              " 'old': 152,\n",
              " 'thing': 153,\n",
              " 'actors': 154,\n",
              " 'work': 155,\n",
              " '10': 156,\n",
              " 'before': 157,\n",
              " 'another': 158,\n",
              " \"didn't\": 159,\n",
              " 'new': 160,\n",
              " 'funny': 161,\n",
              " 'nothing': 162,\n",
              " 'actually': 163,\n",
              " 'makes': 164,\n",
              " 'director': 165,\n",
              " 'look': 166,\n",
              " 'find': 167,\n",
              " 'going': 168,\n",
              " 'few': 169,\n",
              " 'same': 170,\n",
              " 'part': 171,\n",
              " 'again': 172,\n",
              " 'every': 173,\n",
              " 'lot': 174,\n",
              " 'cast': 175,\n",
              " 'us': 176,\n",
              " 'quite': 177,\n",
              " 'down': 178,\n",
              " 'want': 179,\n",
              " 'world': 180,\n",
              " 'things': 181,\n",
              " 'pretty': 182,\n",
              " 'young': 183,\n",
              " 'seems': 184,\n",
              " 'around': 185,\n",
              " 'got': 186,\n",
              " 'horror': 187,\n",
              " 'however': 188,\n",
              " \"can't\": 189,\n",
              " 'fact': 190,\n",
              " 'take': 191,\n",
              " 'big': 192,\n",
              " 'enough': 193,\n",
              " 'long': 194,\n",
              " 'thought': 195,\n",
              " \"that's\": 196,\n",
              " 'both': 197,\n",
              " 'between': 198,\n",
              " 'series': 199,\n",
              " 'give': 200,\n",
              " 'may': 201,\n",
              " 'original': 202,\n",
              " 'own': 203,\n",
              " 'action': 204,\n",
              " \"i've\": 205,\n",
              " 'right': 206,\n",
              " 'without': 207,\n",
              " 'always': 208,\n",
              " 'times': 209,\n",
              " 'comedy': 210,\n",
              " 'point': 211,\n",
              " 'gets': 212,\n",
              " 'must': 213,\n",
              " 'come': 214,\n",
              " 'role': 215,\n",
              " \"isn't\": 216,\n",
              " 'saw': 217,\n",
              " 'almost': 218,\n",
              " 'interesting': 219,\n",
              " 'least': 220,\n",
              " 'family': 221,\n",
              " 'done': 222,\n",
              " \"there's\": 223,\n",
              " 'whole': 224,\n",
              " 'bit': 225,\n",
              " 'music': 226,\n",
              " 'script': 227,\n",
              " 'far': 228,\n",
              " 'making': 229,\n",
              " 'anything': 230,\n",
              " 'guy': 231,\n",
              " 'minutes': 232,\n",
              " 'feel': 233,\n",
              " 'last': 234,\n",
              " 'since': 235,\n",
              " 'might': 236,\n",
              " 'performance': 237,\n",
              " \"he's\": 238,\n",
              " '2': 239,\n",
              " 'probably': 240,\n",
              " 'kind': 241,\n",
              " 'am': 242,\n",
              " 'away': 243,\n",
              " 'yet': 244,\n",
              " 'rather': 245,\n",
              " 'tv': 246,\n",
              " 'worst': 247,\n",
              " 'girl': 248,\n",
              " 'day': 249,\n",
              " 'sure': 250,\n",
              " 'fun': 251,\n",
              " 'hard': 252,\n",
              " 'woman': 253,\n",
              " 'played': 254,\n",
              " 'each': 255,\n",
              " 'found': 256,\n",
              " 'anyone': 257,\n",
              " 'having': 258,\n",
              " 'especially': 259,\n",
              " 'although': 260,\n",
              " 'our': 261,\n",
              " 'course': 262,\n",
              " 'believe': 263,\n",
              " 'comes': 264,\n",
              " 'looking': 265,\n",
              " 'screen': 266,\n",
              " 'trying': 267,\n",
              " 'set': 268,\n",
              " 'goes': 269,\n",
              " 'looks': 270,\n",
              " 'place': 271,\n",
              " 'book': 272,\n",
              " 'different': 273,\n",
              " 'put': 274,\n",
              " 'ending': 275,\n",
              " 'money': 276,\n",
              " 'maybe': 277,\n",
              " 'once': 278,\n",
              " 'sense': 279,\n",
              " 'reason': 280,\n",
              " 'true': 281,\n",
              " 'actor': 282,\n",
              " 'everything': 283,\n",
              " \"wasn't\": 284,\n",
              " 'shows': 285,\n",
              " 'dvd': 286,\n",
              " 'three': 287,\n",
              " 'worth': 288,\n",
              " 'year': 289,\n",
              " 'job': 290,\n",
              " 'main': 291,\n",
              " 'someone': 292,\n",
              " 'together': 293,\n",
              " 'watched': 294,\n",
              " 'play': 295,\n",
              " 'american': 296,\n",
              " 'plays': 297,\n",
              " '1': 298,\n",
              " 'said': 299,\n",
              " 'effects': 300,\n",
              " 'later': 301,\n",
              " 'takes': 302,\n",
              " 'instead': 303,\n",
              " 'seem': 304,\n",
              " 'beautiful': 305,\n",
              " 'john': 306,\n",
              " 'himself': 307,\n",
              " 'version': 308,\n",
              " 'audience': 309,\n",
              " 'high': 310,\n",
              " 'house': 311,\n",
              " 'night': 312,\n",
              " 'during': 313,\n",
              " 'everyone': 314,\n",
              " 'left': 315,\n",
              " 'special': 316,\n",
              " 'seeing': 317,\n",
              " 'half': 318,\n",
              " 'excellent': 319,\n",
              " 'wife': 320,\n",
              " 'star': 321,\n",
              " 'shot': 322,\n",
              " 'war': 323,\n",
              " 'idea': 324,\n",
              " 'nice': 325,\n",
              " 'black': 326,\n",
              " 'less': 327,\n",
              " 'mind': 328,\n",
              " 'simply': 329,\n",
              " 'read': 330,\n",
              " 'second': 331,\n",
              " 'else': 332,\n",
              " \"you're\": 333,\n",
              " 'father': 334,\n",
              " 'fan': 335,\n",
              " 'help': 336,\n",
              " 'poor': 337,\n",
              " 'completely': 338,\n",
              " 'death': 339,\n",
              " '3': 340,\n",
              " 'used': 341,\n",
              " 'home': 342,\n",
              " 'either': 343,\n",
              " 'short': 344,\n",
              " 'line': 345,\n",
              " 'given': 346,\n",
              " 'men': 347,\n",
              " 'top': 348,\n",
              " 'dead': 349,\n",
              " 'budget': 350,\n",
              " 'try': 351,\n",
              " 'performances': 352,\n",
              " 'wrong': 353,\n",
              " 'classic': 354,\n",
              " 'boring': 355,\n",
              " 'enjoy': 356,\n",
              " 'need': 357,\n",
              " 'rest': 358,\n",
              " 'use': 359,\n",
              " 'hollywood': 360,\n",
              " 'kids': 361,\n",
              " 'low': 362,\n",
              " 'production': 363,\n",
              " 'until': 364,\n",
              " 'along': 365,\n",
              " 'full': 366,\n",
              " 'friends': 367,\n",
              " 'camera': 368,\n",
              " 'truly': 369,\n",
              " 'women': 370,\n",
              " 'awful': 371,\n",
              " 'video': 372,\n",
              " 'next': 373,\n",
              " 'tell': 374,\n",
              " 'remember': 375,\n",
              " 'couple': 376,\n",
              " 'stupid': 377,\n",
              " 'start': 378,\n",
              " 'stars': 379,\n",
              " 'perhaps': 380,\n",
              " 'mean': 381,\n",
              " 'sex': 382,\n",
              " 'came': 383,\n",
              " 'recommend': 384,\n",
              " 'let': 385,\n",
              " 'moments': 386,\n",
              " 'wonderful': 387,\n",
              " 'episode': 388,\n",
              " 'understand': 389,\n",
              " 'small': 390,\n",
              " 'face': 391,\n",
              " 'terrible': 392,\n",
              " 'school': 393,\n",
              " 'playing': 394,\n",
              " 'getting': 395,\n",
              " 'written': 396,\n",
              " 'often': 397,\n",
              " 'doing': 398,\n",
              " 'keep': 399,\n",
              " 'early': 400,\n",
              " 'name': 401,\n",
              " 'perfect': 402,\n",
              " 'style': 403,\n",
              " 'human': 404,\n",
              " 'definitely': 405,\n",
              " 'others': 406,\n",
              " 'gives': 407,\n",
              " 'itself': 408,\n",
              " 'lines': 409,\n",
              " 'live': 410,\n",
              " 'become': 411,\n",
              " 'person': 412,\n",
              " 'dialogue': 413,\n",
              " 'lost': 414,\n",
              " 'finally': 415,\n",
              " 'piece': 416,\n",
              " 'head': 417,\n",
              " 'case': 418,\n",
              " 'felt': 419,\n",
              " 'yes': 420,\n",
              " 'liked': 421,\n",
              " 'supposed': 422,\n",
              " 'title': 423,\n",
              " \"couldn't\": 424,\n",
              " 'absolutely': 425,\n",
              " 'white': 426,\n",
              " 'against': 427,\n",
              " 'boy': 428,\n",
              " 'picture': 429,\n",
              " 'sort': 430,\n",
              " 'worse': 431,\n",
              " 'certainly': 432,\n",
              " 'went': 433,\n",
              " 'entire': 434,\n",
              " 'cinema': 435,\n",
              " 'waste': 436,\n",
              " 'problem': 437,\n",
              " 'hope': 438,\n",
              " \"she's\": 439,\n",
              " 'entertaining': 440,\n",
              " 'mr': 441,\n",
              " 'overall': 442,\n",
              " 'evil': 443,\n",
              " 'called': 444,\n",
              " 'loved': 445,\n",
              " 'based': 446,\n",
              " 'oh': 447,\n",
              " 'several': 448,\n",
              " 'fans': 449,\n",
              " 'mother': 450,\n",
              " 'drama': 451,\n",
              " 'beginning': 452,\n",
              " 'killer': 453,\n",
              " 'lives': 454,\n",
              " '5': 455,\n",
              " 'direction': 456,\n",
              " 'care': 457,\n",
              " 'becomes': 458,\n",
              " 'already': 459,\n",
              " 'laugh': 460,\n",
              " 'example': 461,\n",
              " 'friend': 462,\n",
              " 'dark': 463,\n",
              " 'despite': 464,\n",
              " 'under': 465,\n",
              " 'seemed': 466,\n",
              " 'throughout': 467,\n",
              " '4': 468,\n",
              " 'turn': 469,\n",
              " 'unfortunately': 470,\n",
              " 'wanted': 471,\n",
              " \"i'd\": 472,\n",
              " '\\x96': 473,\n",
              " 'children': 474,\n",
              " 'final': 475,\n",
              " 'fine': 476,\n",
              " 'history': 477,\n",
              " 'amazing': 478,\n",
              " 'sound': 479,\n",
              " 'guess': 480,\n",
              " 'heart': 481,\n",
              " 'totally': 482,\n",
              " 'humor': 483,\n",
              " 'lead': 484,\n",
              " 'writing': 485,\n",
              " 'michael': 486,\n",
              " 'quality': 487,\n",
              " \"you'll\": 488,\n",
              " 'close': 489,\n",
              " 'son': 490,\n",
              " 'wants': 491,\n",
              " 'guys': 492,\n",
              " 'works': 493,\n",
              " 'behind': 494,\n",
              " 'tries': 495,\n",
              " 'art': 496,\n",
              " 'side': 497,\n",
              " 'game': 498,\n",
              " 'past': 499,\n",
              " 'able': 500,\n",
              " 'b': 501,\n",
              " 'days': 502,\n",
              " 'turns': 503,\n",
              " \"they're\": 504,\n",
              " 'child': 505,\n",
              " 'hand': 506,\n",
              " 'flick': 507,\n",
              " 'enjoyed': 508,\n",
              " 'act': 509,\n",
              " 'genre': 510,\n",
              " 'town': 511,\n",
              " 'favorite': 512,\n",
              " 'soon': 513,\n",
              " 'kill': 514,\n",
              " 'starts': 515,\n",
              " 'sometimes': 516,\n",
              " 'gave': 517,\n",
              " 'car': 518,\n",
              " 'run': 519,\n",
              " 'late': 520,\n",
              " 'eyes': 521,\n",
              " 'etc': 522,\n",
              " 'actress': 523,\n",
              " 'directed': 524,\n",
              " 'horrible': 525,\n",
              " \"won't\": 526,\n",
              " 'brilliant': 527,\n",
              " 'viewer': 528,\n",
              " 'parts': 529,\n",
              " 'themselves': 530,\n",
              " 'self': 531,\n",
              " 'hour': 532,\n",
              " 'expect': 533,\n",
              " 'thinking': 534,\n",
              " 'stories': 535,\n",
              " 'stuff': 536,\n",
              " 'girls': 537,\n",
              " 'obviously': 538,\n",
              " 'blood': 539,\n",
              " 'decent': 540,\n",
              " 'city': 541,\n",
              " 'voice': 542,\n",
              " 'highly': 543,\n",
              " 'myself': 544,\n",
              " 'feeling': 545,\n",
              " 'fight': 546,\n",
              " 'except': 547,\n",
              " 'slow': 548,\n",
              " 'matter': 549,\n",
              " 'type': 550,\n",
              " 'anyway': 551,\n",
              " 'kid': 552,\n",
              " 'roles': 553,\n",
              " 'killed': 554,\n",
              " 'heard': 555,\n",
              " 'age': 556,\n",
              " 'says': 557,\n",
              " 'god': 558,\n",
              " 'moment': 559,\n",
              " 'took': 560,\n",
              " 'leave': 561,\n",
              " 'writer': 562,\n",
              " 'strong': 563,\n",
              " 'cannot': 564,\n",
              " 'violence': 565,\n",
              " 'police': 566,\n",
              " 'hit': 567,\n",
              " 'stop': 568,\n",
              " 'happens': 569,\n",
              " 'particularly': 570,\n",
              " 'known': 571,\n",
              " 'happened': 572,\n",
              " 'involved': 573,\n",
              " 'extremely': 574,\n",
              " 'daughter': 575,\n",
              " 'obvious': 576,\n",
              " 'told': 577,\n",
              " 'chance': 578,\n",
              " 'living': 579,\n",
              " 'coming': 580,\n",
              " 'lack': 581,\n",
              " 'experience': 582,\n",
              " 'alone': 583,\n",
              " 'including': 584,\n",
              " \"wouldn't\": 585,\n",
              " 'murder': 586,\n",
              " 'attempt': 587,\n",
              " 's': 588,\n",
              " 'james': 589,\n",
              " 'please': 590,\n",
              " 'happen': 591,\n",
              " 'wonder': 592,\n",
              " 'crap': 593,\n",
              " 'ago': 594,\n",
              " \"film's\": 595,\n",
              " 'brother': 596,\n",
              " 'gore': 597,\n",
              " 'complete': 598,\n",
              " 'none': 599,\n",
              " 'interest': 600,\n",
              " 'score': 601,\n",
              " 'group': 602,\n",
              " 'cut': 603,\n",
              " 'simple': 604,\n",
              " 'save': 605,\n",
              " 'ok': 606,\n",
              " 'hell': 607,\n",
              " 'looked': 608,\n",
              " 'number': 609,\n",
              " 'career': 610,\n",
              " 'song': 611,\n",
              " 'possible': 612,\n",
              " 'seriously': 613,\n",
              " 'annoying': 614,\n",
              " 'shown': 615,\n",
              " 'exactly': 616,\n",
              " 'sad': 617,\n",
              " 'running': 618,\n",
              " 'musical': 619,\n",
              " 'serious': 620,\n",
              " 'yourself': 621,\n",
              " 'taken': 622,\n",
              " 'released': 623,\n",
              " 'whose': 624,\n",
              " 'david': 625,\n",
              " 'cinematography': 626,\n",
              " 'scary': 627,\n",
              " 'ends': 628,\n",
              " 'usually': 629,\n",
              " 'hero': 630,\n",
              " 'english': 631,\n",
              " 'hours': 632,\n",
              " 'reality': 633,\n",
              " 'opening': 634,\n",
              " \"i'll\": 635,\n",
              " 'today': 636,\n",
              " 'light': 637,\n",
              " 'across': 638,\n",
              " 'jokes': 639,\n",
              " 'hilarious': 640,\n",
              " 'somewhat': 641,\n",
              " 'usual': 642,\n",
              " 'ridiculous': 643,\n",
              " 'body': 644,\n",
              " 'cool': 645,\n",
              " 'started': 646,\n",
              " 'level': 647,\n",
              " 'view': 648,\n",
              " 'relationship': 649,\n",
              " 'change': 650,\n",
              " 'opinion': 651,\n",
              " 'happy': 652,\n",
              " 'middle': 653,\n",
              " 'taking': 654,\n",
              " 'wish': 655,\n",
              " 'finds': 656,\n",
              " 'husband': 657,\n",
              " 'order': 658,\n",
              " 'saying': 659,\n",
              " 'talking': 660,\n",
              " 'shots': 661,\n",
              " 'ones': 662,\n",
              " 'documentary': 663,\n",
              " 'huge': 664,\n",
              " 'novel': 665,\n",
              " 'mostly': 666,\n",
              " 'female': 667,\n",
              " 'robert': 668,\n",
              " 'power': 669,\n",
              " 'episodes': 670,\n",
              " 'room': 671,\n",
              " 'important': 672,\n",
              " 'rating': 673,\n",
              " 'talent': 674,\n",
              " 'five': 675,\n",
              " 'major': 676,\n",
              " 'turned': 677,\n",
              " 'strange': 678,\n",
              " 'word': 679,\n",
              " 'modern': 680,\n",
              " 'call': 681,\n",
              " 'apparently': 682,\n",
              " 'disappointed': 683,\n",
              " 'single': 684,\n",
              " 'events': 685,\n",
              " 'due': 686,\n",
              " 'four': 687,\n",
              " 'songs': 688,\n",
              " 'basically': 689,\n",
              " 'attention': 690,\n",
              " '7': 691,\n",
              " 'knows': 692,\n",
              " 'clearly': 693,\n",
              " 'supporting': 694,\n",
              " 'knew': 695,\n",
              " 'comic': 696,\n",
              " 'non': 697,\n",
              " 'british': 698,\n",
              " 'television': 699,\n",
              " 'fast': 700,\n",
              " 'earth': 701,\n",
              " 'country': 702,\n",
              " 'cheap': 703,\n",
              " 'class': 704,\n",
              " 'future': 705,\n",
              " 'silly': 706,\n",
              " 'thriller': 707,\n",
              " '8': 708,\n",
              " 'king': 709,\n",
              " 'problems': 710,\n",
              " \"aren't\": 711,\n",
              " 'easily': 712,\n",
              " 'words': 713,\n",
              " 'tells': 714,\n",
              " 'miss': 715,\n",
              " 'jack': 716,\n",
              " 'local': 717,\n",
              " 'sequence': 718,\n",
              " 'bring': 719,\n",
              " 'entertainment': 720,\n",
              " 'paul': 721,\n",
              " 'beyond': 722,\n",
              " 'upon': 723,\n",
              " 'whether': 724,\n",
              " 'predictable': 725,\n",
              " 'moving': 726,\n",
              " 'straight': 727,\n",
              " 'sets': 728,\n",
              " 'similar': 729,\n",
              " 'romantic': 730,\n",
              " 'review': 731,\n",
              " 'oscar': 732,\n",
              " 'falls': 733,\n",
              " 'mystery': 734,\n",
              " 'enjoyable': 735,\n",
              " 'needs': 736,\n",
              " 'rock': 737,\n",
              " 'appears': 738,\n",
              " 'talk': 739,\n",
              " 'george': 740,\n",
              " 'giving': 741,\n",
              " 'eye': 742,\n",
              " 'within': 743,\n",
              " 'richard': 744,\n",
              " 'ten': 745,\n",
              " 'animation': 746,\n",
              " 'message': 747,\n",
              " 'near': 748,\n",
              " 'theater': 749,\n",
              " 'above': 750,\n",
              " 'dull': 751,\n",
              " 'nearly': 752,\n",
              " 'sequel': 753,\n",
              " 'theme': 754,\n",
              " 'points': 755,\n",
              " \"'\": 756,\n",
              " 'stand': 757,\n",
              " 'mention': 758,\n",
              " 'lady': 759,\n",
              " 'bunch': 760,\n",
              " 'add': 761,\n",
              " 'feels': 762,\n",
              " 'herself': 763,\n",
              " 'release': 764,\n",
              " 'red': 765,\n",
              " 'team': 766,\n",
              " 'storyline': 767,\n",
              " 'surprised': 768,\n",
              " 'ways': 769,\n",
              " 'named': 770,\n",
              " 'using': 771,\n",
              " \"haven't\": 772,\n",
              " 'lots': 773,\n",
              " 'easy': 774,\n",
              " 'fantastic': 775,\n",
              " 'begins': 776,\n",
              " 'actual': 777,\n",
              " 'working': 778,\n",
              " 'effort': 779,\n",
              " 'york': 780,\n",
              " 'die': 781,\n",
              " 'hate': 782,\n",
              " 'french': 783,\n",
              " 'tale': 784,\n",
              " 'minute': 785,\n",
              " 'stay': 786,\n",
              " '9': 787,\n",
              " 'clear': 788,\n",
              " 'feature': 789,\n",
              " 'elements': 790,\n",
              " 'among': 791,\n",
              " 'follow': 792,\n",
              " 're': 793,\n",
              " 'comments': 794,\n",
              " 'viewers': 795,\n",
              " 'avoid': 796,\n",
              " 'sister': 797,\n",
              " 'typical': 798,\n",
              " 'showing': 799,\n",
              " 'editing': 800,\n",
              " \"what's\": 801,\n",
              " 'famous': 802,\n",
              " 'tried': 803,\n",
              " 'sorry': 804,\n",
              " 'fall': 805,\n",
              " 'dialog': 806,\n",
              " 'check': 807,\n",
              " 'period': 808,\n",
              " 'form': 809,\n",
              " 'season': 810,\n",
              " 'certain': 811,\n",
              " 'filmed': 812,\n",
              " 'weak': 813,\n",
              " 'soundtrack': 814,\n",
              " 'means': 815,\n",
              " 'material': 816,\n",
              " 'buy': 817,\n",
              " 'somehow': 818,\n",
              " 'realistic': 819,\n",
              " 'figure': 820,\n",
              " 'crime': 821,\n",
              " 'gone': 822,\n",
              " 'doubt': 823,\n",
              " 'peter': 824,\n",
              " 'tom': 825,\n",
              " 'kept': 826,\n",
              " 'viewing': 827,\n",
              " 't': 828,\n",
              " 'general': 829,\n",
              " 'leads': 830,\n",
              " 'greatest': 831,\n",
              " 'space': 832,\n",
              " 'lame': 833,\n",
              " 'suspense': 834,\n",
              " 'dance': 835,\n",
              " 'brought': 836,\n",
              " 'imagine': 837,\n",
              " 'third': 838,\n",
              " 'atmosphere': 839,\n",
              " 'hear': 840,\n",
              " 'particular': 841,\n",
              " 'sequences': 842,\n",
              " 'whatever': 843,\n",
              " 'parents': 844,\n",
              " 'move': 845,\n",
              " 'lee': 846,\n",
              " 'indeed': 847,\n",
              " 'rent': 848,\n",
              " 'de': 849,\n",
              " 'eventually': 850,\n",
              " 'learn': 851,\n",
              " 'note': 852,\n",
              " 'wait': 853,\n",
              " 'deal': 854,\n",
              " 'forget': 855,\n",
              " 'reviews': 856,\n",
              " 'average': 857,\n",
              " 'japanese': 858,\n",
              " 'sexual': 859,\n",
              " 'poorly': 860,\n",
              " 'okay': 861,\n",
              " 'premise': 862,\n",
              " 'zombie': 863,\n",
              " 'surprise': 864,\n",
              " 'believable': 865,\n",
              " 'stage': 866,\n",
              " 'sit': 867,\n",
              " 'possibly': 868,\n",
              " \"who's\": 869,\n",
              " 'decided': 870,\n",
              " 'expected': 871,\n",
              " \"you've\": 872,\n",
              " 'subject': 873,\n",
              " 'nature': 874,\n",
              " 'became': 875,\n",
              " 'difficult': 876,\n",
              " 'free': 877,\n",
              " 'killing': 878,\n",
              " 'screenplay': 879,\n",
              " 'truth': 880,\n",
              " 'romance': 881,\n",
              " 'dr': 882,\n",
              " 'nor': 883,\n",
              " 'reading': 884,\n",
              " 'needed': 885,\n",
              " 'question': 886,\n",
              " 'leaves': 887,\n",
              " 'street': 888,\n",
              " '20': 889,\n",
              " 'meets': 890,\n",
              " 'hot': 891,\n",
              " 'unless': 892,\n",
              " 'begin': 893,\n",
              " 'baby': 894,\n",
              " 'superb': 895,\n",
              " 'credits': 896,\n",
              " 'otherwise': 897,\n",
              " 'imdb': 898,\n",
              " 'write': 899,\n",
              " 'shame': 900,\n",
              " \"let's\": 901,\n",
              " 'situation': 902,\n",
              " 'dramatic': 903,\n",
              " 'memorable': 904,\n",
              " 'directors': 905,\n",
              " 'earlier': 906,\n",
              " 'badly': 907,\n",
              " 'disney': 908,\n",
              " 'meet': 909,\n",
              " 'open': 910,\n",
              " 'dog': 911,\n",
              " 'male': 912,\n",
              " 'weird': 913,\n",
              " 'joe': 914,\n",
              " 'acted': 915,\n",
              " 'forced': 916,\n",
              " 'emotional': 917,\n",
              " 'sci': 918,\n",
              " 'laughs': 919,\n",
              " 'older': 920,\n",
              " 'realize': 921,\n",
              " 'fi': 922,\n",
              " 'dream': 923,\n",
              " 'society': 924,\n",
              " 'interested': 925,\n",
              " 'writers': 926,\n",
              " 'comment': 927,\n",
              " 'forward': 928,\n",
              " 'footage': 929,\n",
              " 'crazy': 930,\n",
              " 'deep': 931,\n",
              " 'whom': 932,\n",
              " 'sounds': 933,\n",
              " 'beauty': 934,\n",
              " 'america': 935,\n",
              " 'plus': 936,\n",
              " 'fantasy': 937,\n",
              " 'directing': 938,\n",
              " 'keeps': 939,\n",
              " 'development': 940,\n",
              " 'ask': 941,\n",
              " 'features': 942,\n",
              " 'air': 943,\n",
              " 'quickly': 944,\n",
              " 'mess': 945,\n",
              " 'creepy': 946,\n",
              " 'perfectly': 947,\n",
              " 'towards': 948,\n",
              " 'mark': 949,\n",
              " 'worked': 950,\n",
              " 'box': 951,\n",
              " 'cheesy': 952,\n",
              " 'unique': 953,\n",
              " 'setting': 954,\n",
              " 'hands': 955,\n",
              " 'plenty': 956,\n",
              " 'brings': 957,\n",
              " 'previous': 958,\n",
              " 'result': 959,\n",
              " 'e': 960,\n",
              " 'effect': 961,\n",
              " 'total': 962,\n",
              " 'personal': 963,\n",
              " 'incredibly': 964,\n",
              " 'rate': 965,\n",
              " 'fire': 966,\n",
              " 'monster': 967,\n",
              " 'business': 968,\n",
              " 'leading': 969,\n",
              " 'apart': 970,\n",
              " 'casting': 971,\n",
              " 'admit': 972,\n",
              " 'appear': 973,\n",
              " 'joke': 974,\n",
              " 'background': 975,\n",
              " 'powerful': 976,\n",
              " 'telling': 977,\n",
              " 'meant': 978,\n",
              " 'girlfriend': 979,\n",
              " 'christmas': 980,\n",
              " 'present': 981,\n",
              " 'hardly': 982,\n",
              " 'potential': 983,\n",
              " 'battle': 984,\n",
              " 'create': 985,\n",
              " 'bill': 986,\n",
              " 'break': 987,\n",
              " 'pay': 988,\n",
              " 'masterpiece': 989,\n",
              " 'dumb': 990,\n",
              " 'return': 991,\n",
              " 'political': 992,\n",
              " 'gay': 993,\n",
              " 'fails': 994,\n",
              " 'fighting': 995,\n",
              " 'various': 996,\n",
              " 'era': 997,\n",
              " 'portrayed': 998,\n",
              " 'secret': 999,\n",
              " 'cop': 1000,\n",
              " ...}"
            ]
          },
          "metadata": {
            "tags": []
          },
          "execution_count": 56
        }
      ]
    },
    {
      "cell_type": "code",
      "metadata": {
        "id": "WJQLpgARYhHg",
        "colab_type": "code",
        "colab": {}
      },
      "source": [
        "x_train_tokens = tokenizer.texts_to_sequences(x_train_data)"
      ],
      "execution_count": 57,
      "outputs": []
    },
    {
      "cell_type": "code",
      "metadata": {
        "id": "-qh1vK0iYpqy",
        "colab_type": "code",
        "colab": {
          "base_uri": "https://localhost:8080/",
          "height": 55
        },
        "outputId": "ec9e3780-a7f3-4187-8937-c5d7980f3ea3"
      },
      "source": [
        "x_train_data[1]"
      ],
      "execution_count": 58,
      "outputs": [
        {
          "output_type": "execute_result",
          "data": {
            "text/plain": [
              "'I have been known to fall asleep during films, but this is usually due to a combination of things including, really tired, being warm and comfortable on the sette and having just eaten a lot. However on this occasion I fell asleep because the film was rubbish. The plot development was constant. Constantly slow and boring. Things seemed to happen, but with no explanation of what was causing them or why. I admit, I may have missed part of the film, but i watched the majority of it and everything just seemed to happen of its own accord without any real concern for anything else. I cant recommend this film at all.'"
            ]
          },
          "metadata": {
            "tags": []
          },
          "execution_count": 58
        }
      ]
    },
    {
      "cell_type": "code",
      "metadata": {
        "id": "MGlXQV0wYrlf",
        "colab_type": "code",
        "colab": {
          "base_uri": "https://localhost:8080/",
          "height": 215
        },
        "outputId": "bdfe6cc3-025a-4423-85e4-a859a0e273b2"
      },
      "source": [
        "np.array(x_train_tokens[1])"
      ],
      "execution_count": 60,
      "outputs": [
        {
          "output_type": "execute_result",
          "data": {
            "text/plain": [
              "array([  11,   26,   75,  571,    6,  805, 2354,  313,  106,   19,   12,\n",
              "          7,  629,  686,    6,    4, 2219,    5,  181,  584,   64, 1454,\n",
              "        110, 2263,    3, 3951,   21,    2,    1,    3,  258,   41, 4677,\n",
              "          4,  174,  188,   21,   12, 4078,   11, 1578, 2354,   86,    2,\n",
              "         20,   14, 1907,    2,  112,  940,   14, 1811, 1340,  548,    3,\n",
              "        355,  181,  466,    6,  591,   19,   17,   55, 1817,    5,   49,\n",
              "         14, 4044,   96,   40,  136,   11,  972,   11,  201,   26, 1046,\n",
              "        171,    5,    2,   20,   19,   11,  294,    2, 2155,    5,   10,\n",
              "          3,  283,   41,  466,    6,  591,    5,   92,  203,    1,  207,\n",
              "         99,  145, 4382,   16,  230,  332,   11, 2486,  384,   12,   20,\n",
              "         31,   30])"
            ]
          },
          "metadata": {
            "tags": []
          },
          "execution_count": 60
        }
      ]
    },
    {
      "cell_type": "code",
      "metadata": {
        "id": "YvfYuhOkYxs3",
        "colab_type": "code",
        "colab": {}
      },
      "source": [
        "x_test_tokens = tokenizer.texts_to_sequences(x_test_data)"
      ],
      "execution_count": 65,
      "outputs": []
    },
    {
      "cell_type": "code",
      "metadata": {
        "id": "bNWOdTEOaX8R",
        "colab_type": "code",
        "colab": {
          "base_uri": "https://localhost:8080/",
          "height": 1000
        },
        "outputId": "fa7e965b-1801-4ff1-ff5a-cf96d77ae4e6"
      },
      "source": [
        "x_train_tokens[:2]"
      ],
      "execution_count": 68,
      "outputs": [
        {
          "output_type": "execute_result",
          "data": {
            "text/plain": [
              "[[12,\n",
              "  14,\n",
              "  33,\n",
              "  425,\n",
              "  392,\n",
              "  18,\n",
              "  90,\n",
              "  28,\n",
              "  1,\n",
              "  9,\n",
              "  32,\n",
              "  1366,\n",
              "  3585,\n",
              "  40,\n",
              "  486,\n",
              "  1,\n",
              "  197,\n",
              "  24,\n",
              "  85,\n",
              "  154,\n",
              "  19,\n",
              "  12,\n",
              "  213,\n",
              "  329,\n",
              "  28,\n",
              "  66,\n",
              "  247,\n",
              "  215,\n",
              "  9,\n",
              "  477,\n",
              "  58,\n",
              "  66,\n",
              "  85,\n",
              "  114,\n",
              "  98,\n",
              "  22,\n",
              "  5675,\n",
              "  12,\n",
              "  1322,\n",
              "  643,\n",
              "  767,\n",
              "  12,\n",
              "  18,\n",
              "  7,\n",
              "  33,\n",
              "  400,\n",
              "  8170,\n",
              "  176,\n",
              "  2455,\n",
              "  416,\n",
              "  2,\n",
              "  89,\n",
              "  1231,\n",
              "  137,\n",
              "  69,\n",
              "  146,\n",
              "  52,\n",
              "  2,\n",
              "  1,\n",
              "  7577,\n",
              "  69,\n",
              "  229,\n",
              "  66,\n",
              "  2933,\n",
              "  16,\n",
              "  1,\n",
              "  2904,\n",
              "  1,\n",
              "  1,\n",
              "  1479,\n",
              "  4940,\n",
              "  3,\n",
              "  39,\n",
              "  3900,\n",
              "  117,\n",
              "  1584,\n",
              "  17,\n",
              "  3585,\n",
              "  14,\n",
              "  162,\n",
              "  19,\n",
              "  4,\n",
              "  1231,\n",
              "  917,\n",
              "  7917,\n",
              "  9,\n",
              "  4,\n",
              "  18,\n",
              "  13,\n",
              "  14,\n",
              "  4139,\n",
              "  5,\n",
              "  99,\n",
              "  145,\n",
              "  1214,\n",
              "  11,\n",
              "  242,\n",
              "  683,\n",
              "  13,\n",
              "  48,\n",
              "  24,\n",
              "  100,\n",
              "  38,\n",
              "  12,\n",
              "  7181,\n",
              "  5515,\n",
              "  38,\n",
              "  1366,\n",
              "  1,\n",
              "  50,\n",
              "  401,\n",
              "  11,\n",
              "  98,\n",
              "  1197,\n",
              "  867,\n",
              "  141,\n",
              "  10],\n",
              " [11,\n",
              "  26,\n",
              "  75,\n",
              "  571,\n",
              "  6,\n",
              "  805,\n",
              "  2354,\n",
              "  313,\n",
              "  106,\n",
              "  19,\n",
              "  12,\n",
              "  7,\n",
              "  629,\n",
              "  686,\n",
              "  6,\n",
              "  4,\n",
              "  2219,\n",
              "  5,\n",
              "  181,\n",
              "  584,\n",
              "  64,\n",
              "  1454,\n",
              "  110,\n",
              "  2263,\n",
              "  3,\n",
              "  3951,\n",
              "  21,\n",
              "  2,\n",
              "  1,\n",
              "  3,\n",
              "  258,\n",
              "  41,\n",
              "  4677,\n",
              "  4,\n",
              "  174,\n",
              "  188,\n",
              "  21,\n",
              "  12,\n",
              "  4078,\n",
              "  11,\n",
              "  1578,\n",
              "  2354,\n",
              "  86,\n",
              "  2,\n",
              "  20,\n",
              "  14,\n",
              "  1907,\n",
              "  2,\n",
              "  112,\n",
              "  940,\n",
              "  14,\n",
              "  1811,\n",
              "  1340,\n",
              "  548,\n",
              "  3,\n",
              "  355,\n",
              "  181,\n",
              "  466,\n",
              "  6,\n",
              "  591,\n",
              "  19,\n",
              "  17,\n",
              "  55,\n",
              "  1817,\n",
              "  5,\n",
              "  49,\n",
              "  14,\n",
              "  4044,\n",
              "  96,\n",
              "  40,\n",
              "  136,\n",
              "  11,\n",
              "  972,\n",
              "  11,\n",
              "  201,\n",
              "  26,\n",
              "  1046,\n",
              "  171,\n",
              "  5,\n",
              "  2,\n",
              "  20,\n",
              "  19,\n",
              "  11,\n",
              "  294,\n",
              "  2,\n",
              "  2155,\n",
              "  5,\n",
              "  10,\n",
              "  3,\n",
              "  283,\n",
              "  41,\n",
              "  466,\n",
              "  6,\n",
              "  591,\n",
              "  5,\n",
              "  92,\n",
              "  203,\n",
              "  1,\n",
              "  207,\n",
              "  99,\n",
              "  145,\n",
              "  4382,\n",
              "  16,\n",
              "  230,\n",
              "  332,\n",
              "  11,\n",
              "  2486,\n",
              "  384,\n",
              "  12,\n",
              "  20,\n",
              "  31,\n",
              "  30]]"
            ]
          },
          "metadata": {
            "tags": []
          },
          "execution_count": 68
        }
      ]
    },
    {
      "cell_type": "code",
      "metadata": {
        "id": "aM2DYpgbZ5dW",
        "colab_type": "code",
        "colab": {}
      },
      "source": [
        "num_tokens = [len(tokens) for tokens in x_train_tokens + x_test_tokens]\n",
        "num_tokens = np.array(num_tokens)"
      ],
      "execution_count": 69,
      "outputs": []
    },
    {
      "cell_type": "code",
      "metadata": {
        "id": "AMmaYQ5KbRBg",
        "colab_type": "code",
        "colab": {
          "base_uri": "https://localhost:8080/",
          "height": 35
        },
        "outputId": "a35323d8-11ec-4e58-8e26-e85c34ef079e"
      },
      "source": [
        "num_tokens[:3]"
      ],
      "execution_count": 71,
      "outputs": [
        {
          "output_type": "execute_result",
          "data": {
            "text/plain": [
              "array([117, 112, 132])"
            ]
          },
          "metadata": {
            "tags": []
          },
          "execution_count": 71
        }
      ]
    },
    {
      "cell_type": "code",
      "metadata": {
        "id": "7HkDoNauauwL",
        "colab_type": "code",
        "colab": {
          "base_uri": "https://localhost:8080/",
          "height": 35
        },
        "outputId": "5cc16164-3a8a-4859-984b-7e64fd9da3d2"
      },
      "source": [
        "np.mean(num_tokens)"
      ],
      "execution_count": 70,
      "outputs": [
        {
          "output_type": "execute_result",
          "data": {
            "text/plain": [
              "235.03316"
            ]
          },
          "metadata": {
            "tags": []
          },
          "execution_count": 70
        }
      ]
    },
    {
      "cell_type": "code",
      "metadata": {
        "id": "xo1afcuZa7N1",
        "colab_type": "code",
        "colab": {
          "base_uri": "https://localhost:8080/",
          "height": 35
        },
        "outputId": "19c45f59-2daa-4036-848c-80a386b27f37"
      },
      "source": [
        "np.max(num_tokens)"
      ],
      "execution_count": 73,
      "outputs": [
        {
          "output_type": "execute_result",
          "data": {
            "text/plain": [
              "2493"
            ]
          },
          "metadata": {
            "tags": []
          },
          "execution_count": 73
        }
      ]
    },
    {
      "cell_type": "code",
      "metadata": {
        "id": "0j2ebNX4bvEd",
        "colab_type": "code",
        "colab": {
          "base_uri": "https://localhost:8080/",
          "height": 35
        },
        "outputId": "156471af-7f10-484c-9262-bf0467d1f719"
      },
      "source": [
        "max_tokens = np.mean(num_tokens) + 2 * np.std(num_tokens)\n",
        "max_tokens = int(max_tokens)\n",
        "max_tokens"
      ],
      "execution_count": 74,
      "outputs": [
        {
          "output_type": "execute_result",
          "data": {
            "text/plain": [
              "583"
            ]
          },
          "metadata": {
            "tags": []
          },
          "execution_count": 74
        }
      ]
    },
    {
      "cell_type": "code",
      "metadata": {
        "id": "MlZEBmeIcAvu",
        "colab_type": "code",
        "colab": {
          "base_uri": "https://localhost:8080/",
          "height": 35
        },
        "outputId": "08a95149-d8e7-4e4c-fb0f-79152a9816e4"
      },
      "source": [
        "np.sum(num_tokens < max_tokens) / len(num_tokens)\n"
      ],
      "execution_count": 75,
      "outputs": [
        {
          "output_type": "execute_result",
          "data": {
            "text/plain": [
              "0.94514"
            ]
          },
          "metadata": {
            "tags": []
          },
          "execution_count": 75
        }
      ]
    },
    {
      "cell_type": "code",
      "metadata": {
        "id": "mJS7hydQcZ71",
        "colab_type": "code",
        "colab": {}
      },
      "source": [
        "pad_type = 'pre'\n"
      ],
      "execution_count": 77,
      "outputs": []
    },
    {
      "cell_type": "code",
      "metadata": {
        "id": "GIKO-tJfccjf",
        "colab_type": "code",
        "colab": {}
      },
      "source": [
        "x_train_pad = pad_sequences(x_train_tokens, maxlen=max_tokens, padding=pad_type, truncating=pad_type)"
      ],
      "execution_count": 78,
      "outputs": []
    },
    {
      "cell_type": "code",
      "metadata": {
        "id": "R4-kq0MYcrp8",
        "colab_type": "code",
        "colab": {}
      },
      "source": [
        "x_test_pad = pad_sequences(x_test_tokens, maxlen=max_tokens, padding=pad_type, truncating=pad_type)"
      ],
      "execution_count": 79,
      "outputs": []
    },
    {
      "cell_type": "code",
      "metadata": {
        "id": "PxI2f7r1cysu",
        "colab_type": "code",
        "colab": {
          "base_uri": "https://localhost:8080/",
          "height": 35
        },
        "outputId": "a34ecef2-4da3-44da-a01b-6e76c785f01a"
      },
      "source": [
        "x_train_pad.shape"
      ],
      "execution_count": 80,
      "outputs": [
        {
          "output_type": "execute_result",
          "data": {
            "text/plain": [
              "(25000, 583)"
            ]
          },
          "metadata": {
            "tags": []
          },
          "execution_count": 80
        }
      ]
    },
    {
      "cell_type": "code",
      "metadata": {
        "id": "K8UvF3Iic5S-",
        "colab_type": "code",
        "colab": {
          "base_uri": "https://localhost:8080/",
          "height": 35
        },
        "outputId": "ae3a0fbc-1e0f-4cfb-9c2c-d42a4f777bfc"
      },
      "source": [
        "x_test_pad.shape"
      ],
      "execution_count": 81,
      "outputs": [
        {
          "output_type": "execute_result",
          "data": {
            "text/plain": [
              "(25000, 583)"
            ]
          },
          "metadata": {
            "tags": []
          },
          "execution_count": 81
        }
      ]
    },
    {
      "cell_type": "code",
      "metadata": {
        "id": "xXlg-BERdBje",
        "colab_type": "code",
        "colab": {
          "base_uri": "https://localhost:8080/",
          "height": 215
        },
        "outputId": "bbee4b00-2b05-413e-9ec4-bd8bfb0149e2"
      },
      "source": [
        "np.array(x_train_tokens[1])"
      ],
      "execution_count": 82,
      "outputs": [
        {
          "output_type": "execute_result",
          "data": {
            "text/plain": [
              "array([  11,   26,   75,  571,    6,  805, 2354,  313,  106,   19,   12,\n",
              "          7,  629,  686,    6,    4, 2219,    5,  181,  584,   64, 1454,\n",
              "        110, 2263,    3, 3951,   21,    2,    1,    3,  258,   41, 4677,\n",
              "          4,  174,  188,   21,   12, 4078,   11, 1578, 2354,   86,    2,\n",
              "         20,   14, 1907,    2,  112,  940,   14, 1811, 1340,  548,    3,\n",
              "        355,  181,  466,    6,  591,   19,   17,   55, 1817,    5,   49,\n",
              "         14, 4044,   96,   40,  136,   11,  972,   11,  201,   26, 1046,\n",
              "        171,    5,    2,   20,   19,   11,  294,    2, 2155,    5,   10,\n",
              "          3,  283,   41,  466,    6,  591,    5,   92,  203,    1,  207,\n",
              "         99,  145, 4382,   16,  230,  332,   11, 2486,  384,   12,   20,\n",
              "         31,   30])"
            ]
          },
          "metadata": {
            "tags": []
          },
          "execution_count": 82
        }
      ]
    },
    {
      "cell_type": "code",
      "metadata": {
        "id": "OYCrD4M4d8gI",
        "colab_type": "code",
        "colab": {
          "base_uri": "https://localhost:8080/",
          "height": 989
        },
        "outputId": "2946cb73-b7d2-4651-914a-1f3e9e2c5105"
      },
      "source": [
        "x_train_pad[1]"
      ],
      "execution_count": 83,
      "outputs": [
        {
          "output_type": "execute_result",
          "data": {
            "text/plain": [
              "array([   0,    0,    0,    0,    0,    0,    0,    0,    0,    0,    0,\n",
              "          0,    0,    0,    0,    0,    0,    0,    0,    0,    0,    0,\n",
              "          0,    0,    0,    0,    0,    0,    0,    0,    0,    0,    0,\n",
              "          0,    0,    0,    0,    0,    0,    0,    0,    0,    0,    0,\n",
              "          0,    0,    0,    0,    0,    0,    0,    0,    0,    0,    0,\n",
              "          0,    0,    0,    0,    0,    0,    0,    0,    0,    0,    0,\n",
              "          0,    0,    0,    0,    0,    0,    0,    0,    0,    0,    0,\n",
              "          0,    0,    0,    0,    0,    0,    0,    0,    0,    0,    0,\n",
              "          0,    0,    0,    0,    0,    0,    0,    0,    0,    0,    0,\n",
              "          0,    0,    0,    0,    0,    0,    0,    0,    0,    0,    0,\n",
              "          0,    0,    0,    0,    0,    0,    0,    0,    0,    0,    0,\n",
              "          0,    0,    0,    0,    0,    0,    0,    0,    0,    0,    0,\n",
              "          0,    0,    0,    0,    0,    0,    0,    0,    0,    0,    0,\n",
              "          0,    0,    0,    0,    0,    0,    0,    0,    0,    0,    0,\n",
              "          0,    0,    0,    0,    0,    0,    0,    0,    0,    0,    0,\n",
              "          0,    0,    0,    0,    0,    0,    0,    0,    0,    0,    0,\n",
              "          0,    0,    0,    0,    0,    0,    0,    0,    0,    0,    0,\n",
              "          0,    0,    0,    0,    0,    0,    0,    0,    0,    0,    0,\n",
              "          0,    0,    0,    0,    0,    0,    0,    0,    0,    0,    0,\n",
              "          0,    0,    0,    0,    0,    0,    0,    0,    0,    0,    0,\n",
              "          0,    0,    0,    0,    0,    0,    0,    0,    0,    0,    0,\n",
              "          0,    0,    0,    0,    0,    0,    0,    0,    0,    0,    0,\n",
              "          0,    0,    0,    0,    0,    0,    0,    0,    0,    0,    0,\n",
              "          0,    0,    0,    0,    0,    0,    0,    0,    0,    0,    0,\n",
              "          0,    0,    0,    0,    0,    0,    0,    0,    0,    0,    0,\n",
              "          0,    0,    0,    0,    0,    0,    0,    0,    0,    0,    0,\n",
              "          0,    0,    0,    0,    0,    0,    0,    0,    0,    0,    0,\n",
              "          0,    0,    0,    0,    0,    0,    0,    0,    0,    0,    0,\n",
              "          0,    0,    0,    0,    0,    0,    0,    0,    0,    0,    0,\n",
              "          0,    0,    0,    0,    0,    0,    0,    0,    0,    0,    0,\n",
              "          0,    0,    0,    0,    0,    0,    0,    0,    0,    0,    0,\n",
              "          0,    0,    0,    0,    0,    0,    0,    0,    0,    0,    0,\n",
              "          0,    0,    0,    0,    0,    0,    0,    0,    0,    0,    0,\n",
              "          0,    0,    0,    0,    0,    0,    0,    0,    0,    0,    0,\n",
              "          0,    0,    0,    0,    0,    0,    0,    0,    0,    0,    0,\n",
              "          0,    0,    0,    0,    0,    0,    0,    0,    0,    0,    0,\n",
              "          0,    0,    0,    0,    0,    0,    0,    0,    0,    0,    0,\n",
              "          0,    0,    0,    0,    0,    0,    0,    0,    0,    0,    0,\n",
              "          0,    0,    0,    0,    0,    0,    0,    0,    0,    0,    0,\n",
              "          0,    0,    0,    0,    0,    0,    0,    0,    0,    0,    0,\n",
              "          0,    0,    0,    0,    0,    0,    0,    0,    0,    0,    0,\n",
              "          0,    0,    0,    0,    0,    0,    0,    0,    0,    0,    0,\n",
              "          0,    0,    0,    0,    0,    0,    0,    0,    0,   11,   26,\n",
              "         75,  571,    6,  805, 2354,  313,  106,   19,   12,    7,  629,\n",
              "        686,    6,    4, 2219,    5,  181,  584,   64, 1454,  110, 2263,\n",
              "          3, 3951,   21,    2,    1,    3,  258,   41, 4677,    4,  174,\n",
              "        188,   21,   12, 4078,   11, 1578, 2354,   86,    2,   20,   14,\n",
              "       1907,    2,  112,  940,   14, 1811, 1340,  548,    3,  355,  181,\n",
              "        466,    6,  591,   19,   17,   55, 1817,    5,   49,   14, 4044,\n",
              "         96,   40,  136,   11,  972,   11,  201,   26, 1046,  171,    5,\n",
              "          2,   20,   19,   11,  294,    2, 2155,    5,   10,    3,  283,\n",
              "         41,  466,    6,  591,    5,   92,  203,    1,  207,   99,  145,\n",
              "       4382,   16,  230,  332,   11, 2486,  384,   12,   20,   31,   30],\n",
              "      dtype=int32)"
            ]
          },
          "metadata": {
            "tags": []
          },
          "execution_count": 83
        }
      ]
    },
    {
      "cell_type": "code",
      "metadata": {
        "id": "RuMcJVLzd89-",
        "colab_type": "code",
        "colab": {}
      },
      "source": [
        "idx = tokenizer.word_index\n",
        "inverse_map = dict(zip(idx.values(), idx.keys()))"
      ],
      "execution_count": 84,
      "outputs": []
    },
    {
      "cell_type": "code",
      "metadata": {
        "id": "eTCZaJ5SedpA",
        "colab_type": "code",
        "colab": {}
      },
      "source": [
        "def tokens_to_string(tokens):\n",
        "    # Map from tokens back to words.\n",
        "    words = [inverse_map[token] for token in tokens if token != 0]\n",
        "    \n",
        "    # Concatenate all words.\n",
        "    text = \" \".join(words)\n",
        "\n",
        "    return text"
      ],
      "execution_count": 85,
      "outputs": []
    },
    {
      "cell_type": "code",
      "metadata": {
        "id": "etb-qMDpev6N",
        "colab_type": "code",
        "colab": {
          "base_uri": "https://localhost:8080/",
          "height": 55
        },
        "outputId": "a177f8e6-1808-44c7-b1e7-06f39119460f"
      },
      "source": [
        "x_train_data[1]\n"
      ],
      "execution_count": 86,
      "outputs": [
        {
          "output_type": "execute_result",
          "data": {
            "text/plain": [
              "'I have been known to fall asleep during films, but this is usually due to a combination of things including, really tired, being warm and comfortable on the sette and having just eaten a lot. However on this occasion I fell asleep because the film was rubbish. The plot development was constant. Constantly slow and boring. Things seemed to happen, but with no explanation of what was causing them or why. I admit, I may have missed part of the film, but i watched the majority of it and everything just seemed to happen of its own accord without any real concern for anything else. I cant recommend this film at all.'"
            ]
          },
          "metadata": {
            "tags": []
          },
          "execution_count": 86
        }
      ]
    },
    {
      "cell_type": "code",
      "metadata": {
        "id": "zVw0erwhe1DV",
        "colab_type": "code",
        "colab": {
          "base_uri": "https://localhost:8080/",
          "height": 55
        },
        "outputId": "27550bd7-f6a7-44ac-8655-ef778d5e1126"
      },
      "source": [
        "tokens_to_string(x_train_tokens[1])"
      ],
      "execution_count": 87,
      "outputs": [
        {
          "output_type": "execute_result",
          "data": {
            "text/plain": [
              "'i have been known to fall asleep during films but this is usually due to a combination of things including really tired being warm and comfortable on the <OOV> and having just eaten a lot however on this occasion i fell asleep because the film was rubbish the plot development was constant constantly slow and boring things seemed to happen but with no explanation of what was causing them or why i admit i may have missed part of the film but i watched the majority of it and everything just seemed to happen of its own <OOV> without any real concern for anything else i cant recommend this film at all'"
            ]
          },
          "metadata": {
            "tags": []
          },
          "execution_count": 87
        }
      ]
    },
    {
      "cell_type": "code",
      "metadata": {
        "id": "j8s504RDg4yF",
        "colab_type": "code",
        "colab": {}
      },
      "source": [
        "embedding_size = 8"
      ],
      "execution_count": 88,
      "outputs": []
    },
    {
      "cell_type": "code",
      "metadata": {
        "id": "xBn24JlLe3ds",
        "colab_type": "code",
        "colab": {}
      },
      "source": [
        "model = Sequential()"
      ],
      "execution_count": 91,
      "outputs": []
    },
    {
      "cell_type": "code",
      "metadata": {
        "id": "7ZwhZRochOCK",
        "colab_type": "code",
        "colab": {}
      },
      "source": [
        "model.add(Embedding(input_dim=num_words,\n",
        "          output_dim=embedding_size,\n",
        "          input_length=max_tokens,\n",
        "          name='layer_embedding'))\n"
      ],
      "execution_count": 92,
      "outputs": []
    },
    {
      "cell_type": "code",
      "metadata": {
        "id": "tiPcBXAWmKzn",
        "colab_type": "code",
        "colab": {}
      },
      "source": [
        "model.add(GRU(units=16, return_sequences=True))"
      ],
      "execution_count": 93,
      "outputs": []
    },
    {
      "cell_type": "code",
      "metadata": {
        "id": "LAQCC303mLuk",
        "colab_type": "code",
        "colab": {}
      },
      "source": [
        "model.add(GRU(units=8, return_sequences=True))"
      ],
      "execution_count": 94,
      "outputs": []
    },
    {
      "cell_type": "code",
      "metadata": {
        "id": "FV5wRmQynIH6",
        "colab_type": "code",
        "colab": {}
      },
      "source": [
        "model.add(GRU(units=4))"
      ],
      "execution_count": 95,
      "outputs": []
    },
    {
      "cell_type": "code",
      "metadata": {
        "id": "8MhMFQUanPrB",
        "colab_type": "code",
        "colab": {}
      },
      "source": [
        "model.add(Dense(1, activation='sigmoid'))"
      ],
      "execution_count": 96,
      "outputs": []
    },
    {
      "cell_type": "code",
      "metadata": {
        "id": "0o6bW5LZop7B",
        "colab_type": "code",
        "colab": {}
      },
      "source": [
        "optimizer = Adam(lr=1e-3)"
      ],
      "execution_count": 97,
      "outputs": []
    },
    {
      "cell_type": "code",
      "metadata": {
        "id": "y9u0jn2Zow0C",
        "colab_type": "code",
        "colab": {}
      },
      "source": [
        "model.compile(loss='binary_crossentropy',\n",
        "       optimizer=optimizer,\n",
        "       metrics=['accuracy'])"
      ],
      "execution_count": 98,
      "outputs": []
    },
    {
      "cell_type": "code",
      "metadata": {
        "id": "gvTWOaa5o57K",
        "colab_type": "code",
        "colab": {
          "base_uri": "https://localhost:8080/",
          "height": 341
        },
        "outputId": "cfcb9772-e484-4e1e-fc9a-f4b3625b1e80"
      },
      "source": [
        "model.summary()"
      ],
      "execution_count": 99,
      "outputs": [
        {
          "output_type": "stream",
          "text": [
            "Model: \"sequential_1\"\n",
            "_________________________________________________________________\n",
            "Layer (type)                 Output Shape              Param #   \n",
            "=================================================================\n",
            "layer_embedding (Embedding)  (None, 583, 8)            80000     \n",
            "_________________________________________________________________\n",
            "gru (GRU)                    (None, 583, 16)           1248      \n",
            "_________________________________________________________________\n",
            "gru_1 (GRU)                  (None, 583, 8)            624       \n",
            "_________________________________________________________________\n",
            "gru_2 (GRU)                  (None, 4)                 168       \n",
            "_________________________________________________________________\n",
            "dense (Dense)                (None, 1)                 5         \n",
            "=================================================================\n",
            "Total params: 82,045\n",
            "Trainable params: 82,045\n",
            "Non-trainable params: 0\n",
            "_________________________________________________________________\n"
          ],
          "name": "stdout"
        }
      ]
    },
    {
      "cell_type": "code",
      "metadata": {
        "id": "g3hp8QxEo9lR",
        "colab_type": "code",
        "colab": {
          "base_uri": "https://localhost:8080/",
          "height": 163
        },
        "outputId": "a070406f-e9ec-4063-e62d-461a6b38877a"
      },
      "source": [
        "model.fit(x_train_pad, y_train,\n",
        "          validation_split=0.05, epochs=3, batch_size=64)"
      ],
      "execution_count": 100,
      "outputs": [
        {
          "output_type": "stream",
          "text": [
            "Epoch 1/3\n",
            "372/372 [==============================] - 248s 668ms/step - loss: 0.5005 - accuracy: 0.7471 - val_loss: 0.3660 - val_accuracy: 0.8360\n",
            "Epoch 2/3\n",
            "372/372 [==============================] - 250s 671ms/step - loss: 0.3000 - accuracy: 0.8846 - val_loss: 0.3097 - val_accuracy: 0.8728\n",
            "Epoch 3/3\n",
            "372/372 [==============================] - 247s 663ms/step - loss: 0.2292 - accuracy: 0.9186 - val_loss: 0.3121 - val_accuracy: 0.8704\n"
          ],
          "name": "stdout"
        },
        {
          "output_type": "execute_result",
          "data": {
            "text/plain": [
              "<tensorflow.python.keras.callbacks.History at 0x7f95c022ed30>"
            ]
          },
          "metadata": {
            "tags": []
          },
          "execution_count": 100
        }
      ]
    },
    {
      "cell_type": "code",
      "metadata": {
        "id": "WVzuhk1JpT_g",
        "colab_type": "code",
        "colab": {
          "base_uri": "https://localhost:8080/",
          "height": 35
        },
        "outputId": "1b36dc67-8bbd-4a75-8ec1-380ec0f3814b"
      },
      "source": [
        "result = model.evaluate(x_test_pad, y_test)\n"
      ],
      "execution_count": 101,
      "outputs": [
        {
          "output_type": "stream",
          "text": [
            "782/782 [==============================] - 72s 92ms/step - loss: 0.3440 - accuracy: 0.8584\n"
          ],
          "name": "stdout"
        }
      ]
    },
    {
      "cell_type": "code",
      "metadata": {
        "id": "z444qnQutjpE",
        "colab_type": "code",
        "colab": {
          "base_uri": "https://localhost:8080/",
          "height": 35
        },
        "outputId": "299f7be8-7898-4fb1-aa36-1cc03ec7ce70"
      },
      "source": [
        "print(\"Accuracy: {0:.2%}\".format(result[1]))\n"
      ],
      "execution_count": 102,
      "outputs": [
        {
          "output_type": "stream",
          "text": [
            "Accuracy: 85.84%\n"
          ],
          "name": "stdout"
        }
      ]
    },
    {
      "cell_type": "code",
      "metadata": {
        "id": "Y0Uwxr3huulf",
        "colab_type": "code",
        "colab": {}
      },
      "source": [
        ""
      ],
      "execution_count": null,
      "outputs": []
    }
  ]
}